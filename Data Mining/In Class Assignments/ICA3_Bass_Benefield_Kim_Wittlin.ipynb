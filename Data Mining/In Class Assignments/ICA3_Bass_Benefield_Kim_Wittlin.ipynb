{
 "cells": [
  {
   "cell_type": "code",
   "execution_count": 36,
   "metadata": {},
   "outputs": [
    {
     "data": {
      "text/html": [
       "<link href='https://fonts.googleapis.com/css?family=Passion+One' rel='stylesheet' type='text/css'><style>div.attn { font-family: 'Helvetica Neue'; font-size: 30px; line-height: 40px; color: #FFFFFF; text-align: center; margin: 30px 0; border-width: 10px 0; border-style: solid; border-color: #5AAAAA; padding: 30px 0; background-color: #DDDDFF; }hr { border: 0; background-color: #ffffff; border-top: 1px solid black; }hr.major { border-top: 10px solid #5AAA5A; }hr.minor { border: none; background-color: #ffffff; border-top: 5px dotted #CC3333; }div.bubble { width: 65%; padding: 20px; background: #DDDDDD; border-radius: 15px; margin: 0 auto; font-style: italic; color: #f00; }em { color: #AAA; }div.c1{visibility:hidden;margin:0;height:0;}div.note{color:red;}</style>"
      ],
      "text/plain": [
       "<IPython.core.display.HTML object>"
      ]
     },
     "execution_count": 36,
     "metadata": {},
     "output_type": "execute_result"
    }
   ],
   "source": [
    "#  Ebnable HTML/CSS \n",
    "from IPython.core.display import HTML\n",
    "HTML(\"<link href='https://fonts.googleapis.com/css?family=Passion+One' rel='stylesheet' type='text/css'><style>div.attn { font-family: 'Helvetica Neue'; font-size: 30px; line-height: 40px; color: #FFFFFF; text-align: center; margin: 30px 0; border-width: 10px 0; border-style: solid; border-color: #5AAAAA; padding: 30px 0; background-color: #DDDDFF; }hr { border: 0; background-color: #ffffff; border-top: 1px solid black; }hr.major { border-top: 10px solid #5AAA5A; }hr.minor { border: none; background-color: #ffffff; border-top: 5px dotted #CC3333; }div.bubble { width: 65%; padding: 20px; background: #DDDDDD; border-radius: 15px; margin: 0 auto; font-style: italic; color: #f00; }em { color: #AAA; }div.c1{visibility:hidden;margin:0;height:0;}div.note{color:red;}</style>\")"
   ]
  },
  {
   "cell_type": "markdown",
   "metadata": {},
   "source": [
    "___\n",
    "Enter Team Member Names here (double click to edit):\n",
    "\n",
    "- Ryan Bass\n",
    "- Brett Benefield\n",
    "- Cho Kim\n",
    "- Nicole Wittlin\n",
    "\n",
    "________\n",
    "\n",
    "# In Class Assignment Three\n",
    "In the following assignment you will be asked to fill in python code and derivations for a number of different problems. Please read all instructions carefully and turn in the rendered notebook (or HTML of the rendered notebook)  before the end of class.\n",
    "\n",
    "<a id=\"top\"></a>\n",
    "## Contents\n",
    "* <a href=\"#Loading\">Loading the Data</a>\n",
    "* <a href=\"#distance\">Measuring Distances</a>\n",
    "* <a href=\"#KNN\">K-Nearest Neighbors</a>\n",
    "* <a href=\"#naive\">Naive Bayes</a>\n",
    "\n",
    "________________________________________________________________________________________________________\n",
    "<a id=\"Loading\"></a>\n",
    "<a href=\"#top\">Back to Top</a>\n",
    "## Downloading the Document Data\n",
    "Please run the following code to read in the \"20 newsgroups\" dataset from sklearn's data loading module."
   ]
  },
  {
   "cell_type": "code",
   "execution_count": 37,
   "metadata": {},
   "outputs": [
    {
     "name": "stdout",
     "output_type": "stream",
     "text": [
      "features shape: (11314, 130107)\n",
      "target shape: (11314,)\n",
      "range of target: 0 19\n",
      "Data type is <class 'scipy.sparse.csr.csr_matrix'> 0.1214353154362896 % of the data is non-zero\n"
     ]
    }
   ],
   "source": [
    "from sklearn.datasets import fetch_20newsgroups_vectorized\n",
    "import numpy as np\n",
    "from __future__ import print_function\n",
    "\n",
    "# this takes about 30 seconds to compute, read the next section while this downloads\n",
    "ds = fetch_20newsgroups_vectorized(subset='train')\n",
    "\n",
    "# this holds the continuous feature data (which is tfidf)\n",
    "print('features shape:', ds.data.shape) # there are ~11000 instances and ~130k features per instance\n",
    "print('target shape:', ds.target.shape) \n",
    "print('range of target:', np.min(ds.target),np.max(ds.target))\n",
    "print('Data type is', type(ds.data), float(ds.data.nnz)/(ds.data.shape[0]*ds.data.shape[1])*100, '% of the data is non-zero')"
   ]
  },
  {
   "cell_type": "markdown",
   "metadata": {},
   "source": [
    "## Understanding the Dataset\n",
    "Look at the description for the 20 newsgroups dataset at http://qwone.com/~jason/20Newsgroups/. You have just downloaded the \"vectorized\" version of the dataset, which means all the words inside the articles have gone through a transformation that binned them into 130 thousand features related to the words in them.  \n",
    "\n",
    "**Question Set 1**:\n",
    "- How many instances are in the dataset? 11,314\n",
    "- What does each instance represent? News articles\n",
    "- How many classes are in the dataset and what does each class represent? target represents different categories to classify into. 20 different classes. Categories that each of the documents would fall into.\n",
    "- Would you expect a classifier trained on this data would generalize to documents written in the past week? Why or why not?\n",
    "- Is the data represented as a sparse or dense matrix?\n",
    "    * Sparse, less than 1% of the data of values greater than 0. "
   ]
  },
  {
   "cell_type": "markdown",
   "metadata": {},
   "source": [
    "___\n",
    "Enter your answer here:\n",
    "- How many instances are in the dataset?\n",
    "    * 11,000 rows \n",
    "\n",
    "- What does each instance represent?\n",
    "    * Our vocubulary is 130,000 unique words and every time we see one in an article, we increment the word count by 1. However, this is oversensitive to common words.  So we look at the frequency for each term and normalize this by the number of documents each word occurs in. \n",
    "  \n",
    "- How many classes are in the dataset and what does each class represent? \n",
    "    * There are 20 classes in this dataset.\n",
    "    * Each classes represents 20 subject types / genres from various news articles. \n",
    "    * Each instance is a seperate fully written article from the news.\n",
    "  \n",
    "- Is the data represented as a sparse or dense matrix?\n",
    "    * This data was collected over 20 years ago. Words like iPhone, Obama, and Google may not be present of represented correctly in this data. So the classifier will work, but certain words will cause subject / genre classification challenges.\n",
    "\n",
    "\n",
    "\n"
   ]
  },
  {
   "cell_type": "markdown",
   "metadata": {},
   "source": [
    "___\n",
    "<a id=\"distance\"></a>\n",
    "<a href=\"#top\">Back to Top</a>\n",
    "## Measures of Distance\n",
    "In the following block of code, we isolate three instances from the dataset. The instance \"`a`\" is from the group *computer graphics*, \"`b`\" is from from the group *recreation autos*, and \"`c`\" is from group *recreation motorcycle*. **Exercise for part 2**: Calculate the: \n",
    "- (1) Euclidean distance\n",
    "- (2) Cosine distance \n",
    "- (3) Jaccard similarity \n",
    "\n",
    "between each pair of instances using the imported functions below. Remember that the Jaccard similarity is only for binary valued vectors, so convert vectors to binary using a threshold. \n",
    "\n",
    "**Question for part 2**: Which distance seems more appropriate to use for this data? **Why**?"
   ]
  },
  {
   "cell_type": "code",
   "execution_count": 38,
   "metadata": {},
   "outputs": [
    {
     "name": "stdout",
     "output_type": "stream",
     "text": [
      "Instance A is from class comp.graphics\n",
      "Instance B is from class rec.autos\n",
      "Instance C is from class rec.motorcycles\n",
      "\n",
      "\n",
      "Euclidean Distance\n",
      " ab: 1.0985184671870858 ac: 1.1891405425398234 bc: 0.9177794226661624\n",
      "Cosine Distance\n",
      " ab: 0.6033714113755322 ac: 0.7070276149559529 bc: 0.4211595343347173\n",
      "Jaccard Dissimilarity (vectors should be boolean values)\n",
      " ab: 0.8821138211382114 ac: 0.8754716981132076 bc: 0.9087947882736156\n",
      "\n",
      "\n",
      "The most appropriate distance is...\n",
      "Cosine. It clearly delineates between topics effectively. B and C are closest (by far)\n",
      "and A is about the same distance from B and C. Euclidean also works well, but not quite as good as \"cosine\"\n"
     ]
    }
   ],
   "source": [
    "from scipy.spatial.distance import cosine\n",
    "from scipy.spatial.distance import euclidean\n",
    "from scipy.spatial.distance import jaccard\n",
    "import numpy as np\n",
    "\n",
    "# get first instance (comp)\n",
    "idx = 550\n",
    "a = ds.data[idx].todense()\n",
    "a_class = ds.target_names[ds.target[idx]]\n",
    "print('Instance A is from class', a_class)\n",
    "\n",
    "# get second instance (autos)\n",
    "idx = 4000\n",
    "b = ds.data[idx].todense()\n",
    "b_class = ds.target_names[ds.target[idx]]\n",
    "print('Instance B is from class', b_class)\n",
    "\n",
    "# get third instance (motorcycle)\n",
    "idx = 7000\n",
    "c = ds.data[idx].todense()\n",
    "c_class = ds.target_names[ds.target[idx]]\n",
    "print('Instance C is from class', c_class)\n",
    "\n",
    "# Enter distance comparison below for each pair of vectors:\n",
    "p = 'Placeholder'\n",
    "print('\\n\\nEuclidean Distance\\n ab:', euclidean(a,b), 'ac:', euclidean(a,c), 'bc:', euclidean(b,c))\n",
    "print('Cosine Distance\\n ab:', cosine(a,b), 'ac:', cosine(a,c), 'bc:', cosine(b,c))\n",
    "print('Jaccard Dissimilarity (vectors should be boolean values)\\n ab:', jaccard(a>0,b>0), 'ac:', jaccard(a>0,c>0), 'bc:', jaccard(b>0,c>0)\n",
    ")\n",
    "\n",
    "print('\\n\\nThe most appropriate distance is...')\n",
    "print('Cosine. It clearly delineates between topics effectively. B and C are closest (by far)')\n",
    "print('and A is about the same distance from B and C. Euclidean also works well, but not quite as good as \"cosine\"')"
   ]
  },
  {
   "cell_type": "markdown",
   "metadata": {},
   "source": [
    "___\n",
    "# Start of Live Session Assignment\n",
    "___\n",
    "<a id=\"KNN\"></a>\n",
    "<a href=\"#top\">Back to Top</a>\n",
    "## Using scikit-learn with KNN\n",
    "Now let's use stratified cross validation with a holdout set to train a KNN model in `scikit-learn`. Use the example below to train a KNN classifier. The documentation for `KNeighborsClassifier` is here: http://scikit-learn.org/stable/modules/generated/sklearn.neighbors.KNeighborsClassifier.html  \n",
    "\n",
    "**Exercise for part 3**: Use the code below to test what value of `n_neighbors` works best for the given data. *Note: do NOT change the metric to be anything other than `'euclidean'`. Other distance functions are not optimized for the amount of data we are working with.* \n",
    "\n",
    "**Question for part 3**: What is the accuracy of the best classifier you can create for this data (by changing only the `n_neighbors` parameter)? "
   ]
  },
  {
   "cell_type": "code",
   "execution_count": 39,
   "metadata": {},
   "outputs": [
    {
     "name": "stdout",
     "output_type": "stream",
     "text": [
      "Accuracy of classifier with 1 neighbors is: 0.60\n",
      "Accuracy of classifier with 2 neighbors is: 0.55\n",
      "Accuracy of classifier with 3 neighbors is: 0.52\n",
      "Accuracy of classifier with 4 neighbors is: 0.51\n",
      "Accuracy of classifier with 5 neighbors is: 0.50\n",
      "Accuracy of classifier with 6 neighbors is: 0.49\n",
      "Accuracy of classifier with 7 neighbors is: 0.48\n",
      "Accuracy of classifier with 8 neighbors is: 0.47\n",
      "Accuracy of classifier with 9 neighbors is: 0.46\n",
      "Accuracy of classifier with 10 neighbors is: 0.45\n"
     ]
    }
   ],
   "source": [
    "from sklearn.cross_validation import StratifiedShuffleSplit\n",
    "from sklearn.neighbors import KNeighborsClassifier\n",
    "from sklearn.metrics import accuracy_score\n",
    "from IPython.html import widgets \n",
    "\n",
    "cv = StratifiedShuffleSplit(ds.target, n_iter = 1, test_size = 0.5, train_size=0.5)\n",
    "\n",
    "# fill in the training and testing data and save as separate variables\n",
    "for trainidx, testidx in cv:\n",
    "    # note that these are sparse matrices\n",
    "    X_train = ds.data[trainidx] \n",
    "    X_test = ds.data[testidx] \n",
    "    y_train = ds.target[trainidx]\n",
    "    y_test = ds.target[testidx]\n",
    "\n",
    "# fill in your code  here to train and test\n",
    "# calculate the accuracy and print it for various values of K\n",
    "K = 1 \n",
    "clf = KNeighborsClassifier(n_neighbors=K, weights='uniform', metric='euclidean')\n",
    "\n",
    "\n",
    "acc = 0.2 # overwrite this with the actual accuracy\n",
    "\n",
    "#=====================================\n",
    "\n",
    "while K <= 10:\n",
    "    clf = KNeighborsClassifier(n_neighbors=K, weights='uniform', metric='euclidean')\n",
    "    clf.fit(X_train, y_train)\n",
    "    \n",
    "    ac = clf.score(X_test, y_test)\n",
    "    print('Accuracy of classifier with %d neighbors is: %.2f'%(K,ac))\n",
    "    K = K+1\n"
   ]
  },
  {
   "cell_type": "markdown",
   "metadata": {},
   "source": [
    "The best accuracy is 60% with 1 neighbors."
   ]
  },
  {
   "cell_type": "markdown",
   "metadata": {},
   "source": [
    "**Question for part 3**: With sparse data, does the use of a KDTree representation make sense? Why or Why not?"
   ]
  },
  {
   "cell_type": "markdown",
   "metadata": {},
   "source": [
    "Enter your answer below:\n",
    "\n",
    "When there is sparse data, KDTrees have faster than normal query trees.\n",
    "\n",
    "Ball tree and KD tree query times can be greatly influenced by data structure. In general, sparser data with a smaller intrinsic dimensionality leads to faster query times. Because the KD tree internal representation is aligned with the parameter axes, it will not generally show as much improvement as ball tree for arbitrarily structured data.\n",
    "___"
   ]
  },
  {
   "cell_type": "markdown",
   "metadata": {
    "collapsed": true
   },
   "source": [
    "_____\n",
    "## KNN extensions - Centroids\n",
    "Now lets look at a very closely related classifier to KNN, called nearest centroid. In this classifier (which is more appropriate for big data scenarios and sparse data), the training step is used to calculate the centroids for each class. These centroids are saved. Unknown attributes, at prediction time, only need to have distances calculated for each saved centroid, drastically decreasing the time required for a prediction. \n",
    "\n",
    "**Exercise for part 4**: Use the template code below to create a nearest centroid classifier. Test which metric has the best cross validated performance: Euclidean, Cosine, or Manhattan. In `scikit-learn` you can see the documentation for NearestCentroid here: \n",
    "- http://scikit-learn.org/stable/modules/generated/sklearn.neighbors.NearestCentroid.html#sklearn.neighbors.NearestCentroid\n",
    "\n",
    "and for supported distance metrics here:\n",
    "- http://scikit-learn.org/stable/modules/generated/sklearn.metrics.pairwise.distance_metrics.html#sklearn.metrics.pairwise.distance_metrics"
   ]
  },
  {
   "cell_type": "code",
   "execution_count": 40,
   "metadata": {},
   "outputs": [
    {
     "name": "stdout",
     "output_type": "stream",
     "text": [
      "euclidean Accuracy: 0.41930351776560015\n",
      "cosine Accuracy: 0.49142655117553474\n"
     ]
    },
    {
     "name": "stderr",
     "output_type": "stream",
     "text": [
      "/anaconda3/lib/python3.6/site-packages/sklearn/neighbors/nearest_centroid.py:140: UserWarning: Averaging for metrics other than euclidean and manhattan not supported. The average is set to be the mean.\n",
      "  warnings.warn(\"Averaging for metrics other than \"\n"
     ]
    },
    {
     "name": "stdout",
     "output_type": "stream",
     "text": [
      "manhattan Accuracy: 0.1863178363089977\n",
      "Best one is cosine with 49.5% accuracy\n"
     ]
    }
   ],
   "source": [
    "from sklearn.neighbors.nearest_centroid import NearestCentroid\n",
    "\n",
    "# the parameters for the nearest centroid metric to test are:\n",
    "#    l1, l2, and cosine (all are optimized)\n",
    "metrics = ['euclidean', 'cosine', 'manhattan']\n",
    "\n",
    "for m in metrics:\n",
    "    clf = NearestCentroid(metric=m)\n",
    "    clf.fit(X_train, y_train)\n",
    "    acc = clf.score(X_test, y_test)\n",
    "    print(\"{} Accuracy: {}\".format(m, acc))\n",
    "    \n",
    "\n",
    "print('Best one is cosine with 49.5% accuracy')"
   ]
  },
  {
   "cell_type": "markdown",
   "metadata": {},
   "source": [
    "___\n",
    "<a id=\"naive\"></a>\n",
    "<a href=\"#top\">Back to Top</a>\n",
    "## Naive Bayes Classification\n",
    "Now let's look at the use of the Naive Bayes classifier. The 20 newsgroups dataset has 20 classes and about 130,000 features per instance. Recall that the Naive Bayes classifer calculates a posterior distribution for each possible class. Each posterior distribution is a multiplication of many conditional distributions: \n",
    "\n",
    "$${\\arg \\max}_{j} \\left(p(class=j)\\prod_{i} p(attribute=i|class=j) \\right)$$\n",
    "\n",
    "where $p(class=j)$ is the prior and $p(attribute=i|class=j)$ is the conditional probability.\n",
    "\n",
    "**Question for part 5**: With this many classes and features, how many different conditional probabilities need to be parameterized? How many priors need to be parameterized?"
   ]
  },
  {
   "cell_type": "markdown",
   "metadata": {},
   "source": [
    "Enter you answer here:\n",
    "\n",
    "*Double Click to edit*\n"
   ]
  },
  {
   "cell_type": "code",
   "execution_count": 41,
   "metadata": {},
   "outputs": [
    {
     "name": "stdout",
     "output_type": "stream",
     "text": [
      "2602140\n",
      "20 priors need to be modeled\n"
     ]
    }
   ],
   "source": [
    "# Use this space for any calculations you might want to do\n",
    "# Total conditionals = # of features / columns * number of classes should be roughly 2.6M\n",
    "# There is one \"prior\" for each class\n",
    "\n",
    "conditionals = 130107*20\n",
    "print(conditionals)\n",
    "print('20 priors need to be modeled')"
   ]
  },
  {
   "cell_type": "markdown",
   "metadata": {},
   "source": [
    "___\n",
    "## Naive Bayes in Scikit-learn\n",
    "Scikit has several implementations of the Naive Bayes classifier: `GaussianNB`, `MultinomialNB`, and `BernoulliNB`. Look at the documentation here: http://scikit-learn.org/stable/modules/naive_bayes.html Take a look at each implementation and then answer this question: \n",
    "\n",
    "**Questions for part 6**: \n",
    "- If the instances contain mostly continuous attributes, would it be better to use Gaussian Naive Bayes, Multinomial Naive Bayes, or Bernoulli? And Why? \n",
    "- What if the data is sparse, does this change your answer? Why or Why not?"
   ]
  },
  {
   "cell_type": "markdown",
   "metadata": {},
   "source": [
    "Enter you answer here:\n",
    "- If the instances contain mostly continuous attributes, would it be better to use Gaussian Naive Bayes, Multinomial Naive Bayes, or Bernoulli? And Why? \n",
    "    * We would want to use a Gaussian Naive Bayes for mostly continuous attributes. Per the documentation, Bernoulli is best suited for binary classifications. Continuous attributes generally have a Gaussian distribution, whereas non continuous attributes do not have a Gaussian distribution.\n",
    "- What if the data is sparse, does this change your answer? Why or Why not?\n",
    "    * If the data is sparse it changes our answer because sparse matrices are much harder to find realistic Gaussian models because they have a mean near zero. It is better to use multinomial naive Bayes for sparse data. \n",
    "___"
   ]
  },
  {
   "cell_type": "markdown",
   "metadata": {},
   "source": [
    "## Naive Bayes Comparison\n",
    "For the final section of this notebook let's compare the performance of Naive Bayes for document classification. Look at the parameters for `MultinomialNB`, and `BernoulliNB` (especially `alpha` and `binarize`). \n",
    "\n",
    "**Exercise for part 7**: Using the example code below, change the parameters for each classifier and see how accurate you can make the classifiers on the test set. \n",
    "\n",
    "**Question for part 7**: Why are these implementations so fast to train? What does the `'alpha'` value control in these models (*i.e.*, how does it change the parameterizations)? \n",
    "\n",
    "* These implmentations are fast to train because we are dealing with very sparce matrices. \n",
    "* Since we are calculating the probability, in some probabilities the denominator can be zero and to avoid this we add in a very small alpha value. The best value of alpha depends on our dataset. \n",
    "* Increasing the binarize parameter decreases the accuracy of the model.\n",
    "* The decoupling of the class conditional feature distributions means that each distribution can be independently estimated as a one dimensional distribution."
   ]
  },
  {
   "cell_type": "code",
   "execution_count": 71,
   "metadata": {},
   "outputs": [
    {
     "name": "stdout",
     "output_type": "stream",
     "text": [
      "MultinomialNB Accuracy: 0.88951741205586 for alpha 0.00\n",
      "MultinomialNB Accuracy: 0.856107477461552 for alpha 0.05\n",
      "MultinomialNB Accuracy: 0.8378999469683578 for alpha 0.10\n",
      "MultinomialNB Accuracy: 0.824642036415061 for alpha 0.15\n",
      "MultinomialNB Accuracy: 0.813328619409581 for alpha 0.20\n",
      "MultinomialNB Accuracy: 0.8018384302633905 for alpha 0.25\n",
      "MultinomialNB Accuracy: 0.7947675446349656 for alpha 0.30\n",
      "MultinomialNB Accuracy: 0.7885805197100937 for alpha 0.35\n",
      "MultinomialNB Accuracy: 0.7822167226445113 for alpha 0.40\n",
      "MultinomialNB Accuracy: 0.7753226091567968 for alpha 0.45\n",
      "MultinomialNB Accuracy: 0.7675446349655294 for alpha 0.50\n",
      "MultinomialNB Accuracy: 0.7618879264627895 for alpha 0.55\n",
      "MultinomialNB Accuracy: 0.7560544458193389 for alpha 0.60\n",
      "MultinomialNB Accuracy: 0.7486300159094926 for alpha 0.65\n",
      "MultinomialNB Accuracy: 0.7427965352660421 for alpha 0.70\n",
      "MultinomialNB Accuracy: 0.7382004596075659 for alpha 0.75\n",
      "MultinomialNB Accuracy: 0.7336043839490897 for alpha 0.80\n",
      "MultinomialNB Accuracy: 0.727770903305639 for alpha 0.85\n",
      "MultinomialNB Accuracy: 0.7231748276471628 for alpha 0.90\n",
      "MultinomialNB Accuracy: 0.7180484355665547 for alpha 0.95\n",
      "\n",
      "For binarize = 0.02...\n",
      "BernoulliNB Accuracy: 0.8755524129397207 for alpha 0.00\n",
      "BernoulliNB Accuracy: 0.8658299452006364 for alpha 0.05\n",
      "BernoulliNB Accuracy: 0.8566377938836839 for alpha 0.10\n",
      "BernoulliNB Accuracy: 0.8453243768782039 for alpha 0.15\n",
      "BernoulliNB Accuracy: 0.8366625419833834 for alpha 0.20\n",
      "BernoulliNB Accuracy: 0.8295916563549585 for alpha 0.25\n",
      "BernoulliNB Accuracy: 0.8200459607565848 for alpha 0.30\n",
      "BernoulliNB Accuracy: 0.809616404454658 for alpha 0.35\n",
      "BernoulliNB Accuracy: 0.8013081138412587 for alpha 0.40\n",
      "BernoulliNB Accuracy: 0.7908785575393318 for alpha 0.45\n",
      "\n",
      "For binarize = 0.03...\n",
      "BernoulliNB Accuracy: 0.8737846915326145 for alpha 0.00\n",
      "BernoulliNB Accuracy: 0.8713098815626658 for alpha 0.05\n",
      "BernoulliNB Accuracy: 0.8624712745271346 for alpha 0.10\n",
      "BernoulliNB Accuracy: 0.8527488067880502 for alpha 0.15\n",
      "BernoulliNB Accuracy: 0.8421424783454128 for alpha 0.20\n",
      "BernoulliNB Accuracy: 0.8310058334806435 for alpha 0.25\n",
      "BernoulliNB Accuracy: 0.8214601378822698 for alpha 0.30\n",
      "BernoulliNB Accuracy: 0.8103234930175004 for alpha 0.35\n",
      "BernoulliNB Accuracy: 0.8020152024041011 for alpha 0.40\n",
      "BernoulliNB Accuracy: 0.7924695068057274 for alpha 0.45\n",
      "\n",
      "For binarize = 0.05...\n",
      "BernoulliNB Accuracy: 0.8455011490189146 for alpha 0.00\n",
      "BernoulliNB Accuracy: 0.8391373519533322 for alpha 0.05\n",
      "BernoulliNB Accuracy: 0.8249955806964823 for alpha 0.10\n",
      "BernoulliNB Accuracy: 0.8055506452183135 for alpha 0.15\n",
      "BernoulliNB Accuracy: 0.7866360261622768 for alpha 0.20\n",
      "BernoulliNB Accuracy: 0.7732013434682694 for alpha 0.25\n",
      "BernoulliNB Accuracy: 0.7537564079901008 for alpha 0.30\n",
      "BernoulliNB Accuracy: 0.7397914088739614 for alpha 0.35\n",
      "BernoulliNB Accuracy: 0.7258264097578222 for alpha 0.40\n",
      "BernoulliNB Accuracy: 0.7139826763302104 for alpha 0.45\n",
      "These classifiers are so fast because...SEE ABOVE MARKDOWN CELL FOR RESPONSES\n",
      "The alpha values control...SEE ABOVE MARKDOWN CELL FOR RESPONSES\n"
     ]
    }
   ],
   "source": [
    "from sklearn.naive_bayes import MultinomialNB\n",
    "from sklearn.naive_bayes import BernoulliNB\n",
    "\n",
    "\n",
    "clf_mnb = MultinomialNB(alpha=0.001)\n",
    "clf_bnb = BernoulliNB(alpha=0.001, binarize=0.02)\n",
    "\n",
    "# fill in your code here\n",
    "alpha = np.arange(.001, 1, .05)\n",
    "for a in alpha:\n",
    "    clf = MultinomialNB(alpha=a)\n",
    "    \n",
    "    clf.fit(X_train, y_train)\n",
    "    print(\"MultinomialNB Accuracy: {} for alpha {:.2f}\".format(clf.score(X_test, y_test),a))\n",
    "\n",
    "print()\n",
    "print(\"For binarize = 0.02...\")\n",
    "alpha = np.arange(.001, .5, .05)\n",
    "for a in alpha:\n",
    "    clf = BernoulliNB(alpha=a, binarize = 0.02)\n",
    "    \n",
    "    clf.fit(X_train, y_train)\n",
    "    print(\"BernoulliNB Accuracy: {} for alpha {:.2f}\".format(clf.score(X_test, y_test),a))\n",
    "\n",
    "print()\n",
    "print(\"For binarize = 0.03...\")\n",
    "for a in alpha:\n",
    "    clf = BernoulliNB(alpha=a, binarize = 0.03)\n",
    "    \n",
    "    clf.fit(X_train, y_train)\n",
    "    print(\"BernoulliNB Accuracy: {} for alpha {:.2f}\".format(clf.score(X_test, y_test),a))\n",
    "\n",
    "print()\n",
    "print(\"For binarize = 0.05...\")\n",
    "for a in alpha:\n",
    "    clf = BernoulliNB(alpha=a, binarize = 0.05)\n",
    "    \n",
    "    clf.fit(X_train, y_train)\n",
    "    print(\"BernoulliNB Accuracy: {} for alpha {:.2f}\".format(clf.score(X_test, y_test),a))\n",
    "    \n",
    "print('These classifiers are so fast because...SEE ABOVE MARKDOWN CELL FOR RESPONSES')\n",
    "print('The alpha values control...SEE ABOVE MARKDOWN CELL FOR RESPONSES')"
   ]
  },
  {
   "cell_type": "markdown",
   "metadata": {
    "collapsed": true
   },
   "source": [
    "________________________________________________________________________________________________________\n",
    "\n",
    "That's all! Please **upload your rendered notebook to blackboard** and please include **team member names** in the notebook submission."
   ]
  },
  {
   "cell_type": "code",
   "execution_count": null,
   "metadata": {
    "collapsed": true
   },
   "outputs": [],
   "source": []
  }
 ],
 "metadata": {
  "kernelspec": {
   "display_name": "Python 3",
   "language": "python",
   "name": "python3"
  },
  "language_info": {
   "codemirror_mode": {
    "name": "ipython",
    "version": 3
   },
   "file_extension": ".py",
   "mimetype": "text/x-python",
   "name": "python",
   "nbconvert_exporter": "python",
   "pygments_lexer": "ipython3",
   "version": "3.7.0"
  }
 },
 "nbformat": 4,
 "nbformat_minor": 1
}
