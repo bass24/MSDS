{
 "cells": [
  {
   "cell_type": "markdown",
   "metadata": {},
   "source": [
    "# <span align=\"center\">Quantifying The World Case Study Unit 4 - Cherry Blossom Race</span>\n",
    "### <span align=\"right\">Ryan Bass and Brett Benefield </span>\n",
    "### <span align=\"right\">January 31, 2019</span>"
   ]
  },
  {
   "cell_type": "markdown",
   "metadata": {},
   "source": [
    "Q.10 We have seen that the 1999 runners were typically older than the 2012 runners. Compare the age distribution of the runners across all 14 years of the races. Use quantile-quantile plots, boxplots, and density curves to make your comparisons. How do the distributions change over the years? Was it a gradual change?\n",
    "\n",
    "Write a report on your analysis, including introduction, background, methods, results, and conclusions/discussions. Note that the focus of this study is getting the data into the correct format. The analysis section is going to be relatively simple from a statistical standpoint, graphics, descriptive statistics, etc., to answer the question from the problem that you chose."
   ]
  },
  {
   "cell_type": "markdown",
   "metadata": {},
   "source": [
    "## Introduction\n",
    "The Cherry Blossom Ten Mile Run is an annual race held in Washtington D.C. in April when cherry trees are in bloom. Like many other races across the country the results are posted online. The runners information is posted to their website and include their name, sex, hometown, and final time. This yearly data can be scraped from their website to analyze relationships from year to year. The format of the data varies from year to year making scraping more complicated. After our data was successfully scraped and cleaned our analysis will focus on the men's records from the 1999 to 2012 races. Original analysis on this data was performed by Daniel Kaplan and Deborah Nolan in the Data Science in R: A Case Studies Approach to Computational Reasoning and Problem Solving that focused on how men's ages effected their 10 mile run time. However, we will be analyzing the average age of the particpants throughout the years. It is already known that the average age of the runners has decreased since 1999, but we will provide statistical analysis on how the age distrubtion has changed over all 14 years of data."
   ]
  },
  {
   "cell_type": "markdown",
   "metadata": {},
   "source": [
    "## Methods\n",
    "### Acquiring and Processing of Data\n",
    "In the initial study performed by the authors, it was evident that preprocessing of the data was necessary to get it into a form that could be used for analysis. Each year's results were hosted on a separate page for year and sex which had to be retrieved individually. Each page had a similar format on how the information was encoded. Using regular expressions, the authors were able to determine the location of each column of data and parse each record. Any header or footer information was ignored, and blank lines were removed from the results. The time results were recorded differently for different years which required determining which column contained the total time to complete the race and then converting that value into the number of minutes taken to complete the race. Finally, each column was encoded as the proper data type, such as numeric or string.\n",
    "\n",
    "Our interest relied only on the age of the male race participants, but to allow for future analysis to be done more easily all attributes were cleaned as much as possible. A search was done to identify any records where an age was not assigned. Using information from previous years, we compared names, hometown, and race time to determine if these records reflected the same person. Using this method, we were able to assign ages to nine records that were previously encoded as NA (Not Available or Not a Number). The equivalent of no data. The remaining fifteen records without an age were removed from the analysis. The dataset contains over 70,000 records so any statistical analysis performed on the data would not be impacted by removal of 0.2% of the records. Lastly, we looked for any run times that were extreme outliers. A race time of 1.5 minutes was identified. After inspection of the original results, it was determined that this person completed the race in 90 minutes. We felt the max time of 175 minutes for a 64-year-old male was plausible and remained in the dataset.\n",
    "\n",
    "During our data exploration, we identified records that could belong to the same person but due to a typo in their name they were considered separate people in a given year. Since our analysis was looking at the difference in age over all years this would not impact our results. Any future studies examining individual results over the years should take note and determine the impact this might have on the study.\n",
    "\n",
    "### Exploratory Data Analysis\n",
    "Now that we had a complete dataframe we performed exploratory data analysis on the age of the runners. First, to be able to statistically compare different racing years of runner's ages we had to check for the needed assumptions for our statistical test, the two sample t-test. For our test to be accurate our data per year must be normally distributed and the observations must be independent of one another. The independence assumption would be in question since people who race will likely be racing with people they know, likely causing more people of similar age to run together. However, we will continue our analysis with caution. Equal variances is an assumption that can be violated when using Welch's two sample t-test even though the power of this test is virtually identical as a two sample t-test. Because of this we will not assume equal variance and use Welch's two-sample t-test as our test of choice.\n",
    "\n",
    "Before we visualize any data we can look at some summary statistics of the data."
   ]
  },
  {
   "cell_type": "code",
   "execution_count": 22,
   "metadata": {},
   "outputs": [
    {
     "data": {
      "text/html": [
       "<table>\n",
       "<thead><tr><th scope=col>year</th><th scope=col>n</th><th scope=col>Mode</th><th scope=col>Median</th><th scope=col>Mean</th><th scope=col>SD</th></tr></thead>\n",
       "<tbody>\n",
       "\t<tr><td>1999    </td><td>3189    </td><td>39      </td><td>40      </td><td>40.33772</td><td>10.27030</td></tr>\n",
       "\t<tr><td>2000    </td><td>3016    </td><td>38      </td><td>40      </td><td>40.40782</td><td>10.51276</td></tr>\n",
       "\t<tr><td>2001    </td><td>3560    </td><td>32      </td><td>39      </td><td>40.30646</td><td>10.59148</td></tr>\n",
       "\t<tr><td>2002    </td><td>3721    </td><td>32      </td><td>39      </td><td>40.30484</td><td>10.67330</td></tr>\n",
       "\t<tr><td>2003    </td><td>3944    </td><td>33      </td><td>39      </td><td>40.36562</td><td>10.73742</td></tr>\n",
       "\t<tr><td>2004    </td><td>4156    </td><td>33      </td><td>38      </td><td>39.31280</td><td>10.94539</td></tr>\n",
       "\t<tr><td>2005    </td><td>4317    </td><td>35      </td><td>38      </td><td>39.56140</td><td>11.05185</td></tr>\n",
       "\t<tr><td>2006    </td><td>5234    </td><td>35      </td><td>38      </td><td>38.90715</td><td>10.94846</td></tr>\n",
       "\t<tr><td>2007    </td><td>5250    </td><td>30      </td><td>37      </td><td>38.50762</td><td>11.14555</td></tr>\n",
       "\t<tr><td>2008    </td><td>5905    </td><td>27      </td><td>36      </td><td>37.78357</td><td>10.90176</td></tr>\n",
       "\t<tr><td>2009    </td><td>6647    </td><td>29      </td><td>35      </td><td>37.37220</td><td>10.80008</td></tr>\n",
       "\t<tr><td>2010    </td><td>6905    </td><td>28      </td><td>35      </td><td>36.97509</td><td>10.76748</td></tr>\n",
       "\t<tr><td>2011    </td><td>7010    </td><td>28      </td><td>36      </td><td>37.52924</td><td>10.84453</td></tr>\n",
       "\t<tr><td>2012    </td><td>7192    </td><td>29      </td><td>35      </td><td>37.75289</td><td>10.86611</td></tr>\n",
       "</tbody>\n",
       "</table>\n"
      ],
      "text/latex": [
       "\\begin{tabular}{r|llllll}\n",
       " year & n & Mode & Median & Mean & SD\\\\\n",
       "\\hline\n",
       "\t 1999     & 3189     & 39       & 40       & 40.33772 & 10.27030\\\\\n",
       "\t 2000     & 3016     & 38       & 40       & 40.40782 & 10.51276\\\\\n",
       "\t 2001     & 3560     & 32       & 39       & 40.30646 & 10.59148\\\\\n",
       "\t 2002     & 3721     & 32       & 39       & 40.30484 & 10.67330\\\\\n",
       "\t 2003     & 3944     & 33       & 39       & 40.36562 & 10.73742\\\\\n",
       "\t 2004     & 4156     & 33       & 38       & 39.31280 & 10.94539\\\\\n",
       "\t 2005     & 4317     & 35       & 38       & 39.56140 & 11.05185\\\\\n",
       "\t 2006     & 5234     & 35       & 38       & 38.90715 & 10.94846\\\\\n",
       "\t 2007     & 5250     & 30       & 37       & 38.50762 & 11.14555\\\\\n",
       "\t 2008     & 5905     & 27       & 36       & 37.78357 & 10.90176\\\\\n",
       "\t 2009     & 6647     & 29       & 35       & 37.37220 & 10.80008\\\\\n",
       "\t 2010     & 6905     & 28       & 35       & 36.97509 & 10.76748\\\\\n",
       "\t 2011     & 7010     & 28       & 36       & 37.52924 & 10.84453\\\\\n",
       "\t 2012     & 7192     & 29       & 35       & 37.75289 & 10.86611\\\\\n",
       "\\end{tabular}\n"
      ],
      "text/markdown": [
       "\n",
       "year | n | Mode | Median | Mean | SD | \n",
       "|---|---|---|---|---|---|---|---|---|---|---|---|---|---|\n",
       "| 1999     | 3189     | 39       | 40       | 40.33772 | 10.27030 | \n",
       "| 2000     | 3016     | 38       | 40       | 40.40782 | 10.51276 | \n",
       "| 2001     | 3560     | 32       | 39       | 40.30646 | 10.59148 | \n",
       "| 2002     | 3721     | 32       | 39       | 40.30484 | 10.67330 | \n",
       "| 2003     | 3944     | 33       | 39       | 40.36562 | 10.73742 | \n",
       "| 2004     | 4156     | 33       | 38       | 39.31280 | 10.94539 | \n",
       "| 2005     | 4317     | 35       | 38       | 39.56140 | 11.05185 | \n",
       "| 2006     | 5234     | 35       | 38       | 38.90715 | 10.94846 | \n",
       "| 2007     | 5250     | 30       | 37       | 38.50762 | 11.14555 | \n",
       "| 2008     | 5905     | 27       | 36       | 37.78357 | 10.90176 | \n",
       "| 2009     | 6647     | 29       | 35       | 37.37220 | 10.80008 | \n",
       "| 2010     | 6905     | 28       | 35       | 36.97509 | 10.76748 | \n",
       "| 2011     | 7010     | 28       | 36       | 37.52924 | 10.84453 | \n",
       "| 2012     | 7192     | 29       | 35       | 37.75289 | 10.86611 | \n",
       "\n",
       "\n"
      ],
      "text/plain": [
       "   year n    Mode Median Mean     SD      \n",
       "1  1999 3189 39   40     40.33772 10.27030\n",
       "2  2000 3016 38   40     40.40782 10.51276\n",
       "3  2001 3560 32   39     40.30646 10.59148\n",
       "4  2002 3721 32   39     40.30484 10.67330\n",
       "5  2003 3944 33   39     40.36562 10.73742\n",
       "6  2004 4156 33   38     39.31280 10.94539\n",
       "7  2005 4317 35   38     39.56140 11.05185\n",
       "8  2006 5234 35   38     38.90715 10.94846\n",
       "9  2007 5250 30   37     38.50762 11.14555\n",
       "10 2008 5905 27   36     37.78357 10.90176\n",
       "11 2009 6647 29   35     37.37220 10.80008\n",
       "12 2010 6905 28   35     36.97509 10.76748\n",
       "13 2011 7010 28   36     37.52924 10.84453\n",
       "14 2012 7192 29   35     37.75289 10.86611"
      ]
     },
     "metadata": {},
     "output_type": "display_data"
    }
   ],
   "source": [
    "cbMen.table[,list(n=length(age), Mode=mode(age), Median=median(age, na.rm=TRUE), Mean=mean(age, na.rm=TRUE), SD=sd(age, na.rm=TRUE)), by=year]"
   ]
  },
  {
   "cell_type": "markdown",
   "metadata": {},
   "source": [
    "There is a clear trend of the runners mean age being younger each year while the standard deviation of the age range per year stays relatively constant. We can also see the increase in racers over the years with the race only getting bigger every year and more than doubling from 3189 to 7192 racers in these 14 years.\n",
    "\n",
    "To begin checking our assumptions for t-tests we'll first check for normally distributed data. We plotted the overall age distrubtion by combining every year's data, and looked at each year individually as well. Kernel Density Estimates were be used to normalize the data from year to year since the amount of runners has increased every year. Histograms were also be plotted to see raw counts as well."
   ]
  },
  {
   "cell_type": "code",
   "execution_count": 26,
   "metadata": {
    "scrolled": false
   },
   "outputs": [
    {
     "name": "stderr",
     "output_type": "stream",
     "text": [
      "Warning message:\n",
      "\"Removed 4 rows containing non-finite values (stat_density).\"`stat_bin()` using `bins = 30`. Pick better value with `binwidth`.\n",
      "Warning message:\n",
      "\"Removed 4 rows containing non-finite values (stat_bin).\""
     ]
    },
    {
     "data": {
      "image/png": "[encoded data removed]",
      "text/plain": [
       "plot without title"
      ]
     },
     "metadata": {},
     "output_type": "display_data"
    }
   ],
   "source": [
    "grid.arrange(kde.plot, histo.plot, nrow=1)"
   ]
  },
  {
   "cell_type": "markdown",
   "metadata": {},
   "source": [
    "Figure 1.0: Distribution of age of runners for counts and density. The mode runner looks to be in their late 20's or early 30's while the average will be higher due to the right skewed distribution."
   ]
  },
  {
   "cell_type": "code",
   "execution_count": 28,
   "metadata": {
    "scrolled": false
   },
   "outputs": [
    {
     "name": "stderr",
     "output_type": "stream",
     "text": [
      "`stat_bin()` using `bins = 30`. Pick better value with `binwidth`.\n",
      "Warning message:\n",
      "\"Removed 4 rows containing non-finite values (stat_bin).\""
     ]
    },
    {
     "data": {},
     "metadata": {},
     "output_type": "display_data"
    },
    {
     "data": {
      "image/png": "[encoded data removed]",
      "text/plain": [
       "plot without title"
      ]
     },
     "metadata": {},
     "output_type": "display_data"
    }
   ],
   "source": [
    "ggplot(data=cbMen, aes(x=age, colour=year, fill=year, group=year)) + \n",
    "  geom_histogram() +\n",
    "  theme_dark() +\n",
    "  facet_wrap(~ year, ncol=3) + \n",
    "  labs(title=\"Distribution of Ages per Year\", x=\"Age\", y=\"Count\")"
   ]
  },
  {
   "cell_type": "markdown",
   "metadata": {},
   "source": [
    "Figure 1.1: Distribution of ages per year. The mode runner's age can be seen to shift from 39 years old in 1999 to 29 years old in 2012. Also of note is total number of particpants per year increasing. These observations show the influx of new runners being almost only around the age of 28 years old +/- approximately 3 years."
   ]
  },
  {
   "cell_type": "code",
   "execution_count": 45,
   "metadata": {},
   "outputs": [
    {
     "name": "stderr",
     "output_type": "stream",
     "text": [
      "Warning message:\n",
      "\"Removed 4 rows containing non-finite values (stat_density).\""
     ]
    },
    {
     "data": {},
     "metadata": {},
     "output_type": "display_data"
    },
    {
     "data": {
      "image/png": "[encoded data removed]",
      "text/plain": [
       "plot without title"
      ]
     },
     "metadata": {},
     "output_type": "display_data"
    }
   ],
   "source": [
    "ggplot(data=cbMen, aes(age, group=year, fill=year, colour=year)) +\n",
    "  geom_density(alpha = 0.5) +\n",
    "  theme_dark() + \n",
    "  facet_wrap(~year, ncol=3) +\n",
    "  labs(title=\"Density Distributions of Ages per Year\", x=\"Age\", y=\"Density\")"
   ]
  },
  {
   "cell_type": "markdown",
   "metadata": {},
   "source": [
    "Figure 1.2: Density distribution of ages per year. Like with the raw counts on Figure 1.1, the density distrubtion shows a slow shift in the age population from normally distributed with a median of 40 years old in 1999 to a right skewed population with a median of 35 years old in 2012."
   ]
  },
  {
   "cell_type": "markdown",
   "metadata": {},
   "source": [
    "Another way of checking for normality is a Quantile-Quantile plot, or QQ-plot. QQ-plots break up our dataset into quantiles and compare it to normally distrubted quantiles. Therefore, a perfect normally distributed data set will form a straight line in a QQ-plot."
   ]
  },
  {
   "cell_type": "code",
   "execution_count": 29,
   "metadata": {},
   "outputs": [
    {
     "name": "stderr",
     "output_type": "stream",
     "text": [
      "Warning message:\n",
      "\"Removed 4 rows containing non-finite values (stat_qq).\"Warning message:\n",
      "\"Removed 4 rows containing non-finite values (stat_qq_line).\""
     ]
    },
    {
     "data": {},
     "metadata": {},
     "output_type": "display_data"
    },
    {
     "data": {
      "image/png": "[encoded data removed]",
      "text/plain": [
       "plot without title"
      ]
     },
     "metadata": {},
     "output_type": "display_data"
    }
   ],
   "source": [
    "ggplot(data=cbMen, aes(sample=age)) + \n",
    "  stat_qq() + \n",
    "  stat_qq_line() + \n",
    "  theme_dark() +\n",
    "  labs(title=\"QQ-plot of Ages Over All Years\", x=\"Normal Quantiles\", y=\"Data Quantiles\")"
   ]
  },
  {
   "cell_type": "markdown",
   "metadata": {},
   "source": [
    "Figure 1.3: Quantile-Quantile plot of runner's ages of entire data set. The runner's ages are very normally distrubted from about age 26 and above. Normality is questionable under this age because of such a small amount of runners being that young."
   ]
  },
  {
   "cell_type": "code",
   "execution_count": 30,
   "metadata": {},
   "outputs": [
    {
     "name": "stderr",
     "output_type": "stream",
     "text": [
      "Warning message:\n",
      "\"Removed 4 rows containing non-finite values (stat_qq).\"Warning message:\n",
      "\"Removed 4 rows containing non-finite values (stat_qq_line).\""
     ]
    },
    {
     "data": {},
     "metadata": {},
     "output_type": "display_data"
    },
    {
     "data": {
      "image/png": "[encoded data removed]",
      "text/plain": [
       "plot without title"
      ]
     },
     "metadata": {},
     "output_type": "display_data"
    }
   ],
   "source": [
    "ggplot(data=cbMen, aes(sample=age)) + \n",
    "  stat_qq() + \n",
    "  stat_qq_line() + \n",
    "  theme_dark() +\n",
    "  facet_wrap(~ year, ncol=3) + \n",
    "  labs(title=\"QQ-plot of Ages per Year\", x=\"Normal Quantiles\", y=\"Data Quantiles\")"
   ]
  },
  {
   "cell_type": "markdown",
   "metadata": {},
   "source": [
    "Figure 1.4: Quantile-Quantile plot of runner's ages for each race year. As with the overall QQ-plot, the data sets are all very normally distrubted except for below the age of about 26."
   ]
  },
  {
   "cell_type": "markdown",
   "metadata": {},
   "source": [
    "Using QQ-plots, histograms, and kernel density estimation we see no great departure from normality that the Central Limit Theorem would not correct for so this assumption of normality is met. Because of this we can assume the overall age data is normally distributed, and for each year. \n",
    "\n",
    "Moving on to visualize the variance of the data we made histograms for each year."
   ]
  },
  {
   "cell_type": "code",
   "execution_count": 31,
   "metadata": {},
   "outputs": [
    {
     "name": "stderr",
     "output_type": "stream",
     "text": [
      "Warning message:\n",
      "\"Removed 4 rows containing non-finite values (stat_boxplot).\"Warning message:\n",
      "\"Removed 4 rows containing non-finite values (stat_summary).\""
     ]
    },
    {
     "data": {},
     "metadata": {},
     "output_type": "display_data"
    },
    {
     "data": {
      "image/png": "[encoded data removed]",
      "text/plain": [
       "plot without title"
      ]
     },
     "metadata": {},
     "output_type": "display_data"
    }
   ],
   "source": [
    "ggplot(data=cbMen, aes(x=year, y=age, group=year)) + \n",
    "  geom_boxplot() + \n",
    "  coord_flip() + \n",
    "  theme_dark() + \n",
    "  scale_x_continuous(breaks=seq(1999, 2012, 1)) + \n",
    "  stat_summary(fun.y=mean, geom=\"point\", color=\"red\", fill=\"red\") + \n",
    "  labs(title=\"Distribution of Ages Per Year\", x=\"Year\", y=\"Age\")"
   ]
  },
  {
   "cell_type": "markdown",
   "metadata": {},
   "source": [
    "Figure 1.5: Boxplots of runner's age distrubtion per year. Noted observations are the high end of the 4th quartile decreasing for nearly every year except for 2012. Q1-Q3 is approximately equal for all years. The median age can be seen decreasing from 40 years old by one year in 2001, 2004, 2007, and fluctuating between age 36 and 35 in 2008-2012. The mean follows a similar trend."
   ]
  },
  {
   "cell_type": "markdown",
   "metadata": {},
   "source": [
    "We can see that the variance per year is approximately equal even though Welch's t-test would still account for this assumption being broken. However, since the sample sizes per year have more than doubled from 1999 to 2012 so an unequal variance would have been worrisome for accurate confidence intervals in our t-test results.\n",
    "\n",
    "Now that all of our assumptions of normally distrubted data, variance, and independence have been met we can continue on with our statistical comparisons between the age of runners per year."
   ]
  },
  {
   "cell_type": "markdown",
   "metadata": {},
   "source": [
    "## Results"
   ]
  },
  {
   "cell_type": "code",
   "execution_count": 9,
   "metadata": {},
   "outputs": [
    {
     "name": "stderr",
     "output_type": "stream",
     "text": [
      "Warning message:\n",
      "\"Removed 1 rows containing non-finite values (stat_boxplot).\"Warning message:\n",
      "\"Removed 1 rows containing non-finite values (stat_summary).\"Warning message:\n",
      "\"Removed 1 rows containing non-finite values (stat_density).\""
     ]
    },
    {
     "data": {
      "image/png": "[encoded data removed]",
      "text/plain": [
       "plot without title"
      ]
     },
     "metadata": {},
     "output_type": "display_data"
    }
   ],
   "source": [
    "grid.arrange(box.1999.2012, kde.1999.2012, nrow=1)"
   ]
  },
  {
   "cell_type": "markdown",
   "metadata": {},
   "source": [
    "Figure 1.6: Visualizing the age distribution differences between 1999 and 2012 (our oldest and newest race year data). The biggest difference between the two are a mode of 39 in 1999 and a mode of 29 in 2012. The median decreased by 5 years and mean by 2.58 years."
   ]
  },
  {
   "cell_type": "code",
   "execution_count": 34,
   "metadata": {},
   "outputs": [
    {
     "data": {
      "text/plain": [
       "\n",
       "\tWelch Two Sample t-test\n",
       "\n",
       "data:  cbMen$age[cbMen$year == \"1999\"] and cbMen$age[cbMen$year == \"2012\"]\n",
       "t = 11.619, df = 6435.6, p-value < 2.2e-16\n",
       "alternative hypothesis: true difference in means is not equal to 0\n",
       "95 percent confidence interval:\n",
       " 2.148712 3.020964\n",
       "sample estimates:\n",
       "mean of x mean of y \n",
       " 40.33772  37.75289 \n"
      ]
     },
     "metadata": {},
     "output_type": "display_data"
    }
   ],
   "source": [
    "t.test(x=cbMen$age[cbMen$year == '1999'], y=cbMen$age[cbMen$year == '2012'], mu=0, paired=FALSE, var.equal=FALSE)"
   ]
  },
  {
   "cell_type": "markdown",
   "metadata": {},
   "source": [
    "Looking at the first and last years of the data recorded there is an overwhelming statistically significant difference (p-value < 2.2e-16) in mean age between the two year's racers. We come to this conclusion with a 95% confidence interval of the difference in mean ages between the two groups being between 2.15 and 3.02 years. We utilized Welch's t-test (assuming unequal variance between the two groups) even though the standard deviations are very similar because Welch's has virtually the same power as a normal t-test but allows the equal variance assumption to be broken. \n",
    "\n",
    "Now that we've established that the trend of younger racers over the years has resulted in a statistically signifcant difference between the years 1999 and 2012, we wanted to see if there were any other differences to be found between any other years. To do this we can plot the 95% confidence intervals for each year to visualize which years would be statistically significant from one another. This is possible because if two confidence intervals do not overlap, their difference must be statistically significant."
   ]
  },
  {
   "cell_type": "code",
   "execution_count": 10,
   "metadata": {},
   "outputs": [
    {
     "data": {},
     "metadata": {},
     "output_type": "display_data"
    },
    {
     "data": {
      "image/png": "[encoded data removed]",
      "text/plain": [
       "plot without title"
      ]
     },
     "metadata": {},
     "output_type": "display_data"
    }
   ],
   "source": [
    "ggplot(data=my_sum) + \n",
    "  geom_bar(aes(x=year, y=mean), stat=\"identity\", fill=\"ivory3\", alpha=0.7) + \n",
    "  geom_errorbar( aes(x=year, ymin=mean-ic, ymax=mean+ic), width=0.4, colour=\"red3\", alpha=0.9) +\n",
    "  theme_dark() + \n",
    "  labs(title=\"Visualizing 95% Confidence Intervals of Mean Age per Year\", x=\"Year\", y=\"Mean Age\") + \n",
    "  coord_cartesian(ylim=c(36,41))"
   ]
  },
  {
   "cell_type": "markdown",
   "metadata": {},
   "source": [
    "Figure 1.7: Visualizing statistical differences in mean age per year. This allows us to easily see which years are statistically different from one another without having to run two sample t-tests on all combination of years. The only subsequent years that are statistically different are between 2003 and 2004, 2005 and 2006, 2007 and 2008, and 2010 and 2011 (all p-values less than 0.004)."
   ]
  },
  {
   "cell_type": "markdown",
   "metadata": {},
   "source": [
    "Other close statistically significant differences are between 2001 and 2005, and 2004 and 2007. All other statistically significant differences can be easily seen where the confidence intervals do not overlap."
   ]
  },
  {
   "cell_type": "markdown",
   "metadata": {},
   "source": [
    "## Discussion"
   ]
  },
  {
   "cell_type": "markdown",
   "metadata": {},
   "source": [
    "The main question that was to be addressed was how did the age distribution of male runners in the Cherry Blossom 10 Mile Race change from 1999 to 2012 and if it did change, was it gradual. From our basic summary statistics and a two sample t-test between 1999 and 2012 ages we confirmed there was a statistically significant difference. Then using Figure 1.7 we can tell which years were statistically different from one another. From 1999 to 2003 there was virtually no change in the mean age between the runners, then a gradual decrease in age per year occured until it rose in 2011 and 2012. Although many of these years have a statistical difference between the year prior or two years prior they are questionably practically significant. The most practically significant results would have to come from any year between 1999 and 2003 (mean of approximately 40.34 years old) when compared to 2010 (mean of 37.75 years old). The cause of this mean difference of about 2.6 years of the runners would have to be examined further with the race coordinators. Further analysis would be needed for the women's runners as well to see if a similar trend is followed."
   ]
  },
  {
   "cell_type": "markdown",
   "metadata": {},
   "source": [
    "### Sources"
   ]
  },
  {
   "cell_type": "markdown",
   "metadata": {},
   "source": [
    "- Nolan, Debra. \"Data Science in R: A Case Studies Approach to Computational Reasoning and Problem Solving.\"\n",
    "- https://stackoverflow.com/questions/4227223/r-list-to-data-frame\n",
    "- http://www.cherryblossom.org/\n",
    "- http://rdatasciencecases.org/\n",
    "- https://www.rdocumentation.org/"
   ]
  },
  {
   "cell_type": "code",
   "execution_count": 5,
   "metadata": {},
   "outputs": [
    {
     "name": "stdout",
     "output_type": "stream",
     "text": [
      "[1] \"Examine string\"\n"
     ]
    },
    {
     "name": "stderr",
     "output_type": "stream",
     "text": [
      "Warning message in data.frame(year = rep(year, nrow(Res)), sex = rep(sex, nrow(Res)), :\n",
      "\"NAs introduced by coercion\""
     ]
    },
    {
     "data": {
      "text/html": [
       "<table>\n",
       "<thead><tr><th></th><th scope=col>year</th><th scope=col>sex</th><th scope=col>name</th><th scope=col>home</th><th scope=col>age</th><th scope=col>runTime</th></tr></thead>\n",
       "<tbody>\n",
       "\t<tr><th scope=row>1999.1083</th><td>1999                  </td><td>M                     </td><td>Rob Faye              </td><td>Vienna VA             </td><td>NA                    </td><td>78.25000              </td></tr>\n",
       "\t<tr><th scope=row>2000.1257</th><td>2000                  </td><td>M                     </td><td>Rob Faye              </td><td>Vienna VA             </td><td>34                    </td><td>81.53333              </td></tr>\n",
       "\t<tr><th scope=row>2001.2881</th><td>2001                  </td><td>M                     </td><td>Rob FAYE              </td><td>Mclean VA             </td><td>36                    </td><td>91.56667              </td></tr>\n",
       "</tbody>\n",
       "</table>\n"
      ],
      "text/latex": [
       "\\begin{tabular}{r|llllll}\n",
       "  & year & sex & name & home & age & runTime\\\\\n",
       "\\hline\n",
       "\t1999.1083 & 1999                   & M                      & Rob Faye               & Vienna VA              & NA                     & 78.25000              \\\\\n",
       "\t2000.1257 & 2000                   & M                      & Rob Faye               & Vienna VA              & 34                     & 81.53333              \\\\\n",
       "\t2001.2881 & 2001                   & M                      & Rob FAYE               & Mclean VA              & 36                     & 91.56667              \\\\\n",
       "\\end{tabular}\n"
      ],
      "text/markdown": [
       "\n",
       "| <!--/--> | year | sex | name | home | age | runTime | \n",
       "|---|---|---|\n",
       "| 1999.1083 | 1999                   | M                      | Rob Faye               | Vienna VA              | NA                     | 78.25000               | \n",
       "| 2000.1257 | 2000                   | M                      | Rob Faye               | Vienna VA              | 34                     | 81.53333               | \n",
       "| 2001.2881 | 2001                   | M                      | Rob FAYE               | Mclean VA              | 36                     | 91.56667               | \n",
       "\n",
       "\n"
      ],
      "text/plain": [
       "          year sex name                   home                age runTime \n",
       "1999.1083 1999 M   Rob Faye               Vienna VA           NA  78.25000\n",
       "2000.1257 2000 M   Rob Faye               Vienna VA           34  81.53333\n",
       "2001.2881 2001 M   Rob FAYE               Mclean VA           36  91.56667"
      ]
     },
     "metadata": {},
     "output_type": "display_data"
    },
    {
     "data": {
      "text/html": [
       "<table>\n",
       "<thead><tr><th></th><th scope=col>year</th><th scope=col>sex</th><th scope=col>name</th><th scope=col>home</th><th scope=col>age</th><th scope=col>runTime</th></tr></thead>\n",
       "<tbody>\n",
       "\t<tr><th scope=row>2002.2491</th><td>2002                  </td><td>M                     </td><td>Dave BOYER            </td><td>Washington DC         </td><td>NA                    </td><td>91.31667              </td></tr>\n",
       "</tbody>\n",
       "</table>\n"
      ],
      "text/latex": [
       "\\begin{tabular}{r|llllll}\n",
       "  & year & sex & name & home & age & runTime\\\\\n",
       "\\hline\n",
       "\t2002.2491 & 2002                   & M                      & Dave BOYER             & Washington DC          & NA                     & 91.31667              \\\\\n",
       "\\end{tabular}\n"
      ],
      "text/markdown": [
       "\n",
       "| <!--/--> | year | sex | name | home | age | runTime | \n",
       "|---|\n",
       "| 2002.2491 | 2002                   | M                      | Dave BOYER             | Washington DC          | NA                     | 91.31667               | \n",
       "\n",
       "\n"
      ],
      "text/plain": [
       "          year sex name                   home                age runTime \n",
       "2002.2491 2002 M   Dave BOYER             Washington DC       NA  91.31667"
      ]
     },
     "metadata": {},
     "output_type": "display_data"
    },
    {
     "data": {
      "text/html": [
       "<table>\n",
       "<thead><tr><th></th><th scope=col>year</th><th scope=col>sex</th><th scope=col>name</th><th scope=col>home</th><th scope=col>age</th><th scope=col>runTime</th></tr></thead>\n",
       "<tbody>\n",
       "\t<tr><th scope=row>2003.586</th><td>2003                          </td><td>M                             </td><td> John Marquart                </td><td> Madison WI                   </td><td>46                            </td><td>69.60000                      </td></tr>\n",
       "\t<tr><th scope=row>2005.267</th><td>2005                          </td><td>M                             </td><td>John Marquart                 </td><td>Madison WI                    </td><td>NA                            </td><td>66.01667                      </td></tr>\n",
       "</tbody>\n",
       "</table>\n"
      ],
      "text/latex": [
       "\\begin{tabular}{r|llllll}\n",
       "  & year & sex & name & home & age & runTime\\\\\n",
       "\\hline\n",
       "\t2003.586 & 2003                           & M                              &  John Marquart                 &  Madison WI                    & 46                             & 69.60000                      \\\\\n",
       "\t2005.267 & 2005                           & M                              & John Marquart                  & Madison WI                     & NA                             & 66.01667                      \\\\\n",
       "\\end{tabular}\n"
      ],
      "text/markdown": [
       "\n",
       "| <!--/--> | year | sex | name | home | age | runTime | \n",
       "|---|---|\n",
       "| 2003.586 | 2003                           | M                              |  John Marquart                 |  Madison WI                    | 46                             | 69.60000                       | \n",
       "| 2005.267 | 2005                           | M                              | John Marquart                  | Madison WI                     | NA                             | 66.01667                       | \n",
       "\n",
       "\n"
      ],
      "text/plain": [
       "         year sex name                           home                 age\n",
       "2003.586 2003 M    John Marquart                  Madison WI          46 \n",
       "2005.267 2005 M   John Marquart                  Madison WI           NA \n",
       "         runTime \n",
       "2003.586 69.60000\n",
       "2005.267 66.01667"
      ]
     },
     "metadata": {},
     "output_type": "display_data"
    },
    {
     "data": {
      "text/html": [
       "<table>\n",
       "<thead><tr><th></th><th scope=col>year</th><th scope=col>sex</th><th scope=col>name</th><th scope=col>home</th><th scope=col>age</th><th scope=col>runTime</th></tr></thead>\n",
       "<tbody>\n",
       "\t<tr><th scope=row>2005.542</th><td>2005                   </td><td>M                      </td><td>Runner Dx Iii X Viii   </td><td>Rockville MD           </td><td>NA                     </td><td>69.76667               </td></tr>\n",
       "</tbody>\n",
       "</table>\n"
      ],
      "text/latex": [
       "\\begin{tabular}{r|llllll}\n",
       "  & year & sex & name & home & age & runTime\\\\\n",
       "\\hline\n",
       "\t2005.542 & 2005                    & M                       & Runner Dx Iii X Viii    & Rockville MD            & NA                      & 69.76667               \\\\\n",
       "\\end{tabular}\n"
      ],
      "text/markdown": [
       "\n",
       "| <!--/--> | year | sex | name | home | age | runTime | \n",
       "|---|\n",
       "| 2005.542 | 2005                    | M                       | Runner Dx Iii X Viii    | Rockville MD            | NA                      | 69.76667                | \n",
       "\n",
       "\n"
      ],
      "text/plain": [
       "         year sex name                    home                age runTime \n",
       "2005.542 2005 M   Runner Dx Iii X Viii    Rockville MD        NA  69.76667"
      ]
     },
     "metadata": {},
     "output_type": "display_data"
    },
    {
     "data": {
      "text/html": [
       "<table>\n",
       "<thead><tr><th></th><th scope=col>year</th><th scope=col>sex</th><th scope=col>name</th><th scope=col>home</th><th scope=col>age</th><th scope=col>runTime</th></tr></thead>\n",
       "<tbody>\n",
       "\t<tr><th scope=row>2005.925</th><td>2005                   </td><td>M                      </td><td>Runner Cb Vii Ix V     </td><td>Rockville MD           </td><td>NA                     </td><td>77.55                  </td></tr>\n",
       "</tbody>\n",
       "</table>\n"
      ],
      "text/latex": [
       "\\begin{tabular}{r|llllll}\n",
       "  & year & sex & name & home & age & runTime\\\\\n",
       "\\hline\n",
       "\t2005.925 & 2005                    & M                       & Runner Cb Vii Ix V      & Rockville MD            & NA                      & 77.55                  \\\\\n",
       "\\end{tabular}\n"
      ],
      "text/markdown": [
       "\n",
       "| <!--/--> | year | sex | name | home | age | runTime | \n",
       "|---|\n",
       "| 2005.925 | 2005                    | M                       | Runner Cb Vii Ix V      | Rockville MD            | NA                      | 77.55                   | \n",
       "\n",
       "\n"
      ],
      "text/plain": [
       "         year sex name                    home                age runTime\n",
       "2005.925 2005 M   Runner Cb Vii Ix V      Rockville MD        NA  77.55  "
      ]
     },
     "metadata": {},
     "output_type": "display_data"
    },
    {
     "data": {
      "text/html": [
       "<table>\n",
       "<thead><tr><th></th><th scope=col>year</th><th scope=col>sex</th><th scope=col>name</th><th scope=col>home</th><th scope=col>age</th><th scope=col>runTime</th></tr></thead>\n",
       "<tbody>\n",
       "\t<tr><th scope=row>2004.3193</th><td>2004                          </td><td>M                             </td><td>Joseph Ferguson               </td><td>Richmond VA                   </td><td>39                            </td><td>94.28333                      </td></tr>\n",
       "\t<tr><th scope=row>2005.1791</th><td>2005                          </td><td>M                             </td><td>Joseph Ferguson               </td><td>Richmond VA                   </td><td>NA                            </td><td>86.68333                      </td></tr>\n",
       "</tbody>\n",
       "</table>\n"
      ],
      "text/latex": [
       "\\begin{tabular}{r|llllll}\n",
       "  & year & sex & name & home & age & runTime\\\\\n",
       "\\hline\n",
       "\t2004.3193 & 2004                           & M                              & Joseph Ferguson                & Richmond VA                    & 39                             & 94.28333                      \\\\\n",
       "\t2005.1791 & 2005                           & M                              & Joseph Ferguson                & Richmond VA                    & NA                             & 86.68333                      \\\\\n",
       "\\end{tabular}\n"
      ],
      "text/markdown": [
       "\n",
       "| <!--/--> | year | sex | name | home | age | runTime | \n",
       "|---|---|\n",
       "| 2004.3193 | 2004                           | M                              | Joseph Ferguson                | Richmond VA                    | 39                             | 94.28333                       | \n",
       "| 2005.1791 | 2005                           | M                              | Joseph Ferguson                | Richmond VA                    | NA                             | 86.68333                       | \n",
       "\n",
       "\n"
      ],
      "text/plain": [
       "          year sex name                           home                 age\n",
       "2004.3193 2004 M   Joseph Ferguson                Richmond VA          39 \n",
       "2005.1791 2005 M   Joseph Ferguson                Richmond VA          NA \n",
       "          runTime \n",
       "2004.3193 94.28333\n",
       "2005.1791 86.68333"
      ]
     },
     "metadata": {},
     "output_type": "display_data"
    },
    {
     "data": {
      "text/html": [
       "<table>\n",
       "<thead><tr><th></th><th scope=col>year</th><th scope=col>sex</th><th scope=col>name</th><th scope=col>home</th><th scope=col>age</th><th scope=col>runTime</th></tr></thead>\n",
       "<tbody>\n",
       "\t<tr><th scope=row>2005.2129</th><td>2005                   </td><td>M                      </td><td>Runner Bc Iii Ii O     </td><td>Rockville MD           </td><td>NA                     </td><td>87                     </td></tr>\n",
       "</tbody>\n",
       "</table>\n"
      ],
      "text/latex": [
       "\\begin{tabular}{r|llllll}\n",
       "  & year & sex & name & home & age & runTime\\\\\n",
       "\\hline\n",
       "\t2005.2129 & 2005                    & M                       & Runner Bc Iii Ii O      & Rockville MD            & NA                      & 87                     \\\\\n",
       "\\end{tabular}\n"
      ],
      "text/markdown": [
       "\n",
       "| <!--/--> | year | sex | name | home | age | runTime | \n",
       "|---|\n",
       "| 2005.2129 | 2005                    | M                       | Runner Bc Iii Ii O      | Rockville MD            | NA                      | 87                      | \n",
       "\n",
       "\n"
      ],
      "text/plain": [
       "          year sex name                    home                age runTime\n",
       "2005.2129 2005 M   Runner Bc Iii Ii O      Rockville MD        NA  87     "
      ]
     },
     "metadata": {},
     "output_type": "display_data"
    },
    {
     "data": {
      "text/html": [
       "<table>\n",
       "<thead><tr><th></th><th scope=col>year</th><th scope=col>sex</th><th scope=col>name</th><th scope=col>home</th><th scope=col>age</th><th scope=col>runTime</th></tr></thead>\n",
       "<tbody>\n",
       "\t<tr><th scope=row>2005.3464</th><td>2005                   </td><td>M                      </td><td>Ronald Henry           </td><td>Arlington VA           </td><td>NA                     </td><td>97.16667               </td></tr>\n",
       "</tbody>\n",
       "</table>\n"
      ],
      "text/latex": [
       "\\begin{tabular}{r|llllll}\n",
       "  & year & sex & name & home & age & runTime\\\\\n",
       "\\hline\n",
       "\t2005.3464 & 2005                    & M                       & Ronald Henry            & Arlington VA            & NA                      & 97.16667               \\\\\n",
       "\\end{tabular}\n"
      ],
      "text/markdown": [
       "\n",
       "| <!--/--> | year | sex | name | home | age | runTime | \n",
       "|---|\n",
       "| 2005.3464 | 2005                    | M                       | Ronald Henry            | Arlington VA            | NA                      | 97.16667                | \n",
       "\n",
       "\n"
      ],
      "text/plain": [
       "          year sex name                    home                age runTime \n",
       "2005.3464 2005 M   Ronald Henry            Arlington VA        NA  97.16667"
      ]
     },
     "metadata": {},
     "output_type": "display_data"
    },
    {
     "data": {
      "text/html": [
       "<table>\n",
       "<thead><tr><th></th><th scope=col>year</th><th scope=col>sex</th><th scope=col>name</th><th scope=col>home</th><th scope=col>age</th><th scope=col>runTime</th></tr></thead>\n",
       "<tbody>\n",
       "\t<tr><th scope=row>2005.3874</th><td>2005                   </td><td>M                      </td><td>Unidentified Runner Xx </td><td>Rockville MD           </td><td>NA                     </td><td>103.75                 </td></tr>\n",
       "</tbody>\n",
       "</table>\n"
      ],
      "text/latex": [
       "\\begin{tabular}{r|llllll}\n",
       "  & year & sex & name & home & age & runTime\\\\\n",
       "\\hline\n",
       "\t2005.3874 & 2005                    & M                       & Unidentified Runner Xx  & Rockville MD            & NA                      & 103.75                 \\\\\n",
       "\\end{tabular}\n"
      ],
      "text/markdown": [
       "\n",
       "| <!--/--> | year | sex | name | home | age | runTime | \n",
       "|---|\n",
       "| 2005.3874 | 2005                    | M                       | Unidentified Runner Xx  | Rockville MD            | NA                      | 103.75                  | \n",
       "\n",
       "\n"
      ],
      "text/plain": [
       "          year sex name                    home                age runTime\n",
       "2005.3874 2005 M   Unidentified Runner Xx  Rockville MD        NA  103.75 "
      ]
     },
     "metadata": {},
     "output_type": "display_data"
    },
    {
     "data": {
      "text/html": [
       "<table>\n",
       "<thead><tr><th></th><th scope=col>year</th><th scope=col>sex</th><th scope=col>name</th><th scope=col>home</th><th scope=col>age</th><th scope=col>runTime</th></tr></thead>\n",
       "<tbody>\n",
       "\t<tr><th scope=row>2005.3893</th><td>2005                   </td><td>M                      </td><td>Runner Cf Vii Iii Iv   </td><td>Rockville MD           </td><td>NA                     </td><td>112.6167               </td></tr>\n",
       "</tbody>\n",
       "</table>\n"
      ],
      "text/latex": [
       "\\begin{tabular}{r|llllll}\n",
       "  & year & sex & name & home & age & runTime\\\\\n",
       "\\hline\n",
       "\t2005.3893 & 2005                    & M                       & Runner Cf Vii Iii Iv    & Rockville MD            & NA                      & 112.6167               \\\\\n",
       "\\end{tabular}\n"
      ],
      "text/markdown": [
       "\n",
       "| <!--/--> | year | sex | name | home | age | runTime | \n",
       "|---|\n",
       "| 2005.3893 | 2005                    | M                       | Runner Cf Vii Iii Iv    | Rockville MD            | NA                      | 112.6167                | \n",
       "\n",
       "\n"
      ],
      "text/plain": [
       "          year sex name                    home                age runTime \n",
       "2005.3893 2005 M   Runner Cf Vii Iii Iv    Rockville MD        NA  112.6167"
      ]
     },
     "metadata": {},
     "output_type": "display_data"
    },
    {
     "data": {
      "text/html": [
       "<table>\n",
       "<thead><tr><th></th><th scope=col>year</th><th scope=col>sex</th><th scope=col>name</th><th scope=col>home</th><th scope=col>age</th><th scope=col>runTime</th></tr></thead>\n",
       "<tbody>\n",
       "\t<tr><th scope=row>2005.4200</th><td>2005                   </td><td>M                      </td><td>Runner Ch Iii Viii Iii </td><td>Rockville MD           </td><td>NA                     </td><td>116.3833               </td></tr>\n",
       "</tbody>\n",
       "</table>\n"
      ],
      "text/latex": [
       "\\begin{tabular}{r|llllll}\n",
       "  & year & sex & name & home & age & runTime\\\\\n",
       "\\hline\n",
       "\t2005.4200 & 2005                    & M                       & Runner Ch Iii Viii Iii  & Rockville MD            & NA                      & 116.3833               \\\\\n",
       "\\end{tabular}\n"
      ],
      "text/markdown": [
       "\n",
       "| <!--/--> | year | sex | name | home | age | runTime | \n",
       "|---|\n",
       "| 2005.4200 | 2005                    | M                       | Runner Ch Iii Viii Iii  | Rockville MD            | NA                      | 116.3833                | \n",
       "\n",
       "\n"
      ],
      "text/plain": [
       "          year sex name                    home                age runTime \n",
       "2005.4200 2005 M   Runner Ch Iii Viii Iii  Rockville MD        NA  116.3833"
      ]
     },
     "metadata": {},
     "output_type": "display_data"
    },
    {
     "data": {
      "text/html": [
       "<table>\n",
       "<thead><tr><th></th><th scope=col>year</th><th scope=col>sex</th><th scope=col>name</th><th scope=col>home</th><th scope=col>age</th><th scope=col>runTime</th></tr></thead>\n",
       "<tbody>\n",
       "\t<tr><th scope=row>1999.2607</th><td>1999                          </td><td>M                             </td><td>William Brooks                </td><td>Rockville MD                  </td><td>47                            </td><td> 95.93333                     </td></tr>\n",
       "\t<tr><th scope=row>2000.2120</th><td>2000                          </td><td>M                             </td><td>William Brooks                </td><td>Rockville MD                  </td><td>48                            </td><td> 91.16667                     </td></tr>\n",
       "\t<tr><th scope=row>2001.2512</th><td>2001                          </td><td>M                             </td><td>William BROOKS                </td><td>Rockville MD                  </td><td>49                            </td><td> 89.90000                     </td></tr>\n",
       "\t<tr><th scope=row>2002.1892</th><td>2002                          </td><td>M                             </td><td>William BROOKS                </td><td>Rockville MD                  </td><td>50                            </td><td> 87.38333                     </td></tr>\n",
       "\t<tr><th scope=row>2003.2695</th><td>2003                          </td><td>M                             </td><td> William Brooks               </td><td> Rockville MD                 </td><td>51                            </td><td> 95.23333                     </td></tr>\n",
       "\t<tr><th scope=row>2004.2665</th><td>2004                          </td><td>M                             </td><td>William Brooks                </td><td>Rockville MD                  </td><td>52                            </td><td> 94.93333                     </td></tr>\n",
       "\t<tr><th scope=row>2006.4681</th><td>2006                          </td><td>M                             </td><td>William Brooks                </td><td>Rehoboth Beach                </td><td>NA                            </td><td>106.81667                     </td></tr>\n",
       "\t<tr><th scope=row>2007.4367</th><td>2007                          </td><td>M                             </td><td>William Brooks                </td><td>Rehoboth Beach DE             </td><td>55                            </td><td>100.86667                     </td></tr>\n",
       "\t<tr><th scope=row>2009.6093</th><td>2009                          </td><td>M                             </td><td>William Brooks                </td><td>Rehoboth Beach DE             </td><td>57                            </td><td>109.95000                     </td></tr>\n",
       "</tbody>\n",
       "</table>\n"
      ],
      "text/latex": [
       "\\begin{tabular}{r|llllll}\n",
       "  & year & sex & name & home & age & runTime\\\\\n",
       "\\hline\n",
       "\t1999.2607 & 1999                           & M                              & William Brooks                 & Rockville MD                   & 47                             &  95.93333                     \\\\\n",
       "\t2000.2120 & 2000                           & M                              & William Brooks                 & Rockville MD                   & 48                             &  91.16667                     \\\\\n",
       "\t2001.2512 & 2001                           & M                              & William BROOKS                 & Rockville MD                   & 49                             &  89.90000                     \\\\\n",
       "\t2002.1892 & 2002                           & M                              & William BROOKS                 & Rockville MD                   & 50                             &  87.38333                     \\\\\n",
       "\t2003.2695 & 2003                           & M                              &  William Brooks                &  Rockville MD                  & 51                             &  95.23333                     \\\\\n",
       "\t2004.2665 & 2004                           & M                              & William Brooks                 & Rockville MD                   & 52                             &  94.93333                     \\\\\n",
       "\t2006.4681 & 2006                           & M                              & William Brooks                 & Rehoboth Beach                 & NA                             & 106.81667                     \\\\\n",
       "\t2007.4367 & 2007                           & M                              & William Brooks                 & Rehoboth Beach DE              & 55                             & 100.86667                     \\\\\n",
       "\t2009.6093 & 2009                           & M                              & William Brooks                 & Rehoboth Beach DE              & 57                             & 109.95000                     \\\\\n",
       "\\end{tabular}\n"
      ],
      "text/markdown": [
       "\n",
       "| <!--/--> | year | sex | name | home | age | runTime | \n",
       "|---|---|---|---|---|---|---|---|---|\n",
       "| 1999.2607 | 1999                           | M                              | William Brooks                 | Rockville MD                   | 47                             |  95.93333                      | \n",
       "| 2000.2120 | 2000                           | M                              | William Brooks                 | Rockville MD                   | 48                             |  91.16667                      | \n",
       "| 2001.2512 | 2001                           | M                              | William BROOKS                 | Rockville MD                   | 49                             |  89.90000                      | \n",
       "| 2002.1892 | 2002                           | M                              | William BROOKS                 | Rockville MD                   | 50                             |  87.38333                      | \n",
       "| 2003.2695 | 2003                           | M                              |  William Brooks                |  Rockville MD                  | 51                             |  95.23333                      | \n",
       "| 2004.2665 | 2004                           | M                              | William Brooks                 | Rockville MD                   | 52                             |  94.93333                      | \n",
       "| 2006.4681 | 2006                           | M                              | William Brooks                 | Rehoboth Beach                 | NA                             | 106.81667                      | \n",
       "| 2007.4367 | 2007                           | M                              | William Brooks                 | Rehoboth Beach DE              | 55                             | 100.86667                      | \n",
       "| 2009.6093 | 2009                           | M                              | William Brooks                 | Rehoboth Beach DE              | 57                             | 109.95000                      | \n",
       "\n",
       "\n"
      ],
      "text/plain": [
       "          year sex name                           home                  age\n",
       "1999.2607 1999 M   William Brooks                 Rockville MD          47 \n",
       "2000.2120 2000 M   William Brooks                 Rockville MD          48 \n",
       "2001.2512 2001 M   William BROOKS                 Rockville MD          49 \n",
       "2002.1892 2002 M   William BROOKS                 Rockville MD          50 \n",
       "2003.2695 2003 M    William Brooks                 Rockville MD         51 \n",
       "2004.2665 2004 M   William Brooks                 Rockville MD          52 \n",
       "2006.4681 2006 M   William Brooks                 Rehoboth Beach        NA \n",
       "2007.4367 2007 M   William Brooks                 Rehoboth Beach DE     55 \n",
       "2009.6093 2009 M   William Brooks                 Rehoboth Beach DE     57 \n",
       "          runTime  \n",
       "1999.2607  95.93333\n",
       "2000.2120  91.16667\n",
       "2001.2512  89.90000\n",
       "2002.1892  87.38333\n",
       "2003.2695  95.23333\n",
       "2004.2665  94.93333\n",
       "2006.4681 106.81667\n",
       "2007.4367 100.86667\n",
       "2009.6093 109.95000"
      ]
     },
     "metadata": {},
     "output_type": "display_data"
    },
    {
     "data": {
      "text/html": [
       "<table>\n",
       "<thead><tr><th></th><th scope=col>year</th><th scope=col>sex</th><th scope=col>name</th><th scope=col>home</th><th scope=col>age</th><th scope=col>runTime</th></tr></thead>\n",
       "<tbody>\n",
       "\t<tr><th scope=row>2007.213</th><td>2007                   </td><td>M                      </td><td>Jim Catella            </td><td>Washington DC          </td><td>NA                     </td><td>64.18333               </td></tr>\n",
       "\t<tr><th scope=row>2008.386</th><td>2008                   </td><td>M                      </td><td>Jim Catella            </td><td>Washington DC          </td><td>27                     </td><td>67.23333               </td></tr>\n",
       "</tbody>\n",
       "</table>\n"
      ],
      "text/latex": [
       "\\begin{tabular}{r|llllll}\n",
       "  & year & sex & name & home & age & runTime\\\\\n",
       "\\hline\n",
       "\t2007.213 & 2007                    & M                       & Jim Catella             & Washington DC           & NA                      & 64.18333               \\\\\n",
       "\t2008.386 & 2008                    & M                       & Jim Catella             & Washington DC           & 27                      & 67.23333               \\\\\n",
       "\\end{tabular}\n"
      ],
      "text/markdown": [
       "\n",
       "| <!--/--> | year | sex | name | home | age | runTime | \n",
       "|---|---|\n",
       "| 2007.213 | 2007                    | M                       | Jim Catella             | Washington DC           | NA                      | 64.18333                | \n",
       "| 2008.386 | 2008                    | M                       | Jim Catella             | Washington DC           | 27                      | 67.23333                | \n",
       "\n",
       "\n"
      ],
      "text/plain": [
       "         year sex name                    home                age runTime \n",
       "2007.213 2007 M   Jim Catella             Washington DC       NA  64.18333\n",
       "2008.386 2008 M   Jim Catella             Washington DC       27  67.23333"
      ]
     },
     "metadata": {},
     "output_type": "display_data"
    },
    {
     "data": {
      "text/html": [
       "<table>\n",
       "<thead><tr><th></th><th scope=col>year</th><th scope=col>sex</th><th scope=col>name</th><th scope=col>home</th><th scope=col>age</th><th scope=col>runTime</th></tr></thead>\n",
       "<tbody>\n",
       "\t<tr><th scope=row>2007.2657</th><td>2007                   </td><td>M                      </td><td>Monty Hoffman          </td><td>Potomac MD             </td><td>NA                     </td><td>86.33333               </td></tr>\n",
       "</tbody>\n",
       "</table>\n"
      ],
      "text/latex": [
       "\\begin{tabular}{r|llllll}\n",
       "  & year & sex & name & home & age & runTime\\\\\n",
       "\\hline\n",
       "\t2007.2657 & 2007                    & M                       & Monty Hoffman           & Potomac MD              & NA                      & 86.33333               \\\\\n",
       "\\end{tabular}\n"
      ],
      "text/markdown": [
       "\n",
       "| <!--/--> | year | sex | name | home | age | runTime | \n",
       "|---|\n",
       "| 2007.2657 | 2007                    | M                       | Monty Hoffman           | Potomac MD              | NA                      | 86.33333                | \n",
       "\n",
       "\n"
      ],
      "text/plain": [
       "          year sex name                    home                age runTime \n",
       "2007.2657 2007 M   Monty Hoffman           Potomac MD          NA  86.33333"
      ]
     },
     "metadata": {},
     "output_type": "display_data"
    },
    {
     "data": {
      "text/html": [
       "<table>\n",
       "<thead><tr><th></th><th scope=col>year</th><th scope=col>sex</th><th scope=col>name</th><th scope=col>home</th><th scope=col>age</th><th scope=col>runTime</th></tr></thead>\n",
       "<tbody>\n",
       "\t<tr><th scope=row>1999.680</th><td>1999                   </td><td>M                      </td><td>Unknown Runner         </td><td>Rockville MD           </td><td>25                     </td><td>73.20000               </td></tr>\n",
       "\t<tr><th scope=row>2006.92</th><td>2006                   </td><td>M                      </td><td>Unknown Male           </td><td>Washington             </td><td>27                     </td><td>59.36667               </td></tr>\n",
       "\t<tr><th scope=row>2006.2187</th><td>2006                   </td><td>M                      </td><td>Unknown Runner         </td><td>Rockville              </td><td>58                     </td><td>84.55000               </td></tr>\n",
       "\t<tr><th scope=row>2007.2904</th><td>2007                   </td><td>M                      </td><td>Unknown                </td><td>                       </td><td>NA                     </td><td>87.86667               </td></tr>\n",
       "\t<tr><th scope=row>2010.4302</th><td>2010                   </td><td>M                      </td><td>Unknown                </td><td>                       </td><td>38                     </td><td>92.65000               </td></tr>\n",
       "</tbody>\n",
       "</table>\n"
      ],
      "text/latex": [
       "\\begin{tabular}{r|llllll}\n",
       "  & year & sex & name & home & age & runTime\\\\\n",
       "\\hline\n",
       "\t1999.680 & 1999                    & M                       & Unknown Runner          & Rockville MD            & 25                      & 73.20000               \\\\\n",
       "\t2006.92 & 2006                    & M                       & Unknown Male            & Washington              & 27                      & 59.36667               \\\\\n",
       "\t2006.2187 & 2006                    & M                       & Unknown Runner          & Rockville               & 58                      & 84.55000               \\\\\n",
       "\t2007.2904 & 2007                    & M                       & Unknown                 &                         & NA                      & 87.86667               \\\\\n",
       "\t2010.4302 & 2010                    & M                       & Unknown                 &                         & 38                      & 92.65000               \\\\\n",
       "\\end{tabular}\n"
      ],
      "text/markdown": [
       "\n",
       "| <!--/--> | year | sex | name | home | age | runTime | \n",
       "|---|---|---|---|---|\n",
       "| 1999.680 | 1999                    | M                       | Unknown Runner          | Rockville MD            | 25                      | 73.20000                | \n",
       "| 2006.92 | 2006                    | M                       | Unknown Male            | Washington              | 27                      | 59.36667                | \n",
       "| 2006.2187 | 2006                    | M                       | Unknown Runner          | Rockville               | 58                      | 84.55000                | \n",
       "| 2007.2904 | 2007                    | M                       | Unknown                 |                         | NA                      | 87.86667                | \n",
       "| 2010.4302 | 2010                    | M                       | Unknown                 |                         | 38                      | 92.65000                | \n",
       "\n",
       "\n"
      ],
      "text/plain": [
       "          year sex name                    home                  age runTime \n",
       "1999.680  1999 M   Unknown Runner          Rockville MD          25  73.20000\n",
       "2006.92   2006 M   Unknown Male            Washington            27  59.36667\n",
       "2006.2187 2006 M   Unknown Runner          Rockville             58  84.55000\n",
       "2007.2904 2007 M   Unknown                                       NA  87.86667\n",
       "2010.4302 2010 M   Unknown                                       38  92.65000"
      ]
     },
     "metadata": {},
     "output_type": "display_data"
    },
    {
     "data": {
      "text/html": [
       "<table>\n",
       "<thead><tr><th></th><th scope=col>year</th><th scope=col>sex</th><th scope=col>name</th><th scope=col>home</th><th scope=col>age</th><th scope=col>runTime</th></tr></thead>\n",
       "<tbody>\n",
       "\t<tr><th scope=row>2008.847</th><td>2008                   </td><td>M                      </td><td>Jonathan Phillips      </td><td>Washington DC          </td><td>27                     </td><td>72.65000               </td></tr>\n",
       "\t<tr><th scope=row>2009.683</th><td>2009                   </td><td>M                      </td><td>Jonathan Phillips      </td><td>                       </td><td>NA                     </td><td>70.36667               </td></tr>\n",
       "\t<tr><th scope=row>2009.2987</th><td>2009                   </td><td>M                      </td><td>Jonathan Phillips      </td><td>Washington DC          </td><td>28                     </td><td>85.68333               </td></tr>\n",
       "\t<tr><th scope=row>2010.2937</th><td>2010                   </td><td>M                      </td><td>Jonathan Phillips      </td><td>Washington DC          </td><td>29                     </td><td>85.06667               </td></tr>\n",
       "\t<tr><th scope=row>2011.944</th><td>2011                   </td><td>M                      </td><td>Jonathan Phillips      </td><td>Washington DC          </td><td>30                     </td><td>73.15000               </td></tr>\n",
       "\t<tr><th scope=row>2012.1089</th><td>2012                   </td><td>M                      </td><td>Jonathan Phillips      </td><td>Washington DC          </td><td>31                     </td><td>72.71667               </td></tr>\n",
       "\t<tr><th scope=row>2012.3270</th><td>2012                   </td><td>M                      </td><td>Jonathan Phillips      </td><td>Washington DC          </td><td>31                     </td><td>85.75000               </td></tr>\n",
       "</tbody>\n",
       "</table>\n"
      ],
      "text/latex": [
       "\\begin{tabular}{r|llllll}\n",
       "  & year & sex & name & home & age & runTime\\\\\n",
       "\\hline\n",
       "\t2008.847 & 2008                    & M                       & Jonathan Phillips       & Washington DC           & 27                      & 72.65000               \\\\\n",
       "\t2009.683 & 2009                    & M                       & Jonathan Phillips       &                         & NA                      & 70.36667               \\\\\n",
       "\t2009.2987 & 2009                    & M                       & Jonathan Phillips       & Washington DC           & 28                      & 85.68333               \\\\\n",
       "\t2010.2937 & 2010                    & M                       & Jonathan Phillips       & Washington DC           & 29                      & 85.06667               \\\\\n",
       "\t2011.944 & 2011                    & M                       & Jonathan Phillips       & Washington DC           & 30                      & 73.15000               \\\\\n",
       "\t2012.1089 & 2012                    & M                       & Jonathan Phillips       & Washington DC           & 31                      & 72.71667               \\\\\n",
       "\t2012.3270 & 2012                    & M                       & Jonathan Phillips       & Washington DC           & 31                      & 85.75000               \\\\\n",
       "\\end{tabular}\n"
      ],
      "text/markdown": [
       "\n",
       "| <!--/--> | year | sex | name | home | age | runTime | \n",
       "|---|---|---|---|---|---|---|\n",
       "| 2008.847 | 2008                    | M                       | Jonathan Phillips       | Washington DC           | 27                      | 72.65000                | \n",
       "| 2009.683 | 2009                    | M                       | Jonathan Phillips       |                         | NA                      | 70.36667                | \n",
       "| 2009.2987 | 2009                    | M                       | Jonathan Phillips       | Washington DC           | 28                      | 85.68333                | \n",
       "| 2010.2937 | 2010                    | M                       | Jonathan Phillips       | Washington DC           | 29                      | 85.06667                | \n",
       "| 2011.944 | 2011                    | M                       | Jonathan Phillips       | Washington DC           | 30                      | 73.15000                | \n",
       "| 2012.1089 | 2012                    | M                       | Jonathan Phillips       | Washington DC           | 31                      | 72.71667                | \n",
       "| 2012.3270 | 2012                    | M                       | Jonathan Phillips       | Washington DC           | 31                      | 85.75000                | \n",
       "\n",
       "\n"
      ],
      "text/plain": [
       "          year sex name                    home                  age runTime \n",
       "2008.847  2008 M   Jonathan Phillips       Washington DC         27  72.65000\n",
       "2009.683  2009 M   Jonathan Phillips                             NA  70.36667\n",
       "2009.2987 2009 M   Jonathan Phillips       Washington DC         28  85.68333\n",
       "2010.2937 2010 M   Jonathan Phillips       Washington DC         29  85.06667\n",
       "2011.944  2011 M   Jonathan Phillips       Washington DC         30  73.15000\n",
       "2012.1089 2012 M   Jonathan Phillips       Washington DC         31  72.71667\n",
       "2012.3270 2012 M   Jonathan Phillips       Washington DC         31  85.75000"
      ]
     },
     "metadata": {},
     "output_type": "display_data"
    },
    {
     "data": {
      "text/html": [
       "<table>\n",
       "<thead><tr><th></th><th scope=col>year</th><th scope=col>sex</th><th scope=col>name</th><th scope=col>home</th><th scope=col>age</th><th scope=col>runTime</th></tr></thead>\n",
       "<tbody>\n",
       "\t<tr><th scope=row>2009.6574</th><td>2009                   </td><td>M                      </td><td>Ngata Nganga           </td><td>                       </td><td>NA                     </td><td>128.3667               </td></tr>\n",
       "</tbody>\n",
       "</table>\n"
      ],
      "text/latex": [
       "\\begin{tabular}{r|llllll}\n",
       "  & year & sex & name & home & age & runTime\\\\\n",
       "\\hline\n",
       "\t2009.6574 & 2009                    & M                       & Ngata Nganga            &                         & NA                      & 128.3667               \\\\\n",
       "\\end{tabular}\n"
      ],
      "text/markdown": [
       "\n",
       "| <!--/--> | year | sex | name | home | age | runTime | \n",
       "|---|\n",
       "| 2009.6574 | 2009                    | M                       | Ngata Nganga            |                         | NA                      | 128.3667                | \n",
       "\n",
       "\n"
      ],
      "text/plain": [
       "          year sex name                    home                  age runTime \n",
       "2009.6574 2009 M   Ngata Nganga                                  NA  128.3667"
      ]
     },
     "metadata": {},
     "output_type": "display_data"
    },
    {
     "data": {
      "text/html": [
       "<table>\n",
       "<thead><tr><th></th><th scope=col>year</th><th scope=col>sex</th><th scope=col>name</th><th scope=col>home</th><th scope=col>age</th><th scope=col>runTime</th></tr></thead>\n",
       "<tbody>\n",
       "\t<tr><th scope=row>2008.484</th><td>2008                   </td><td>M                      </td><td>Dan Kahn               </td><td>Gaithersburg MD        </td><td>42                     </td><td>68.73333               </td></tr>\n",
       "\t<tr><th scope=row>2009.626</th><td>2009                   </td><td>M                      </td><td>Dan Kahn               </td><td>Gaithersburg MD        </td><td>43                     </td><td>69.76667               </td></tr>\n",
       "\t<tr><th scope=row>2010.27</th><td>2010                   </td><td>M                      </td><td>Dan Kahn               </td><td>Houston TX             </td><td>NA                     </td><td>52.60000               </td></tr>\n",
       "\t<tr><th scope=row>2010.431</th><td>2010                   </td><td>M                      </td><td>Dan Kahn               </td><td>Gaithersburg MD        </td><td>44                     </td><td>67.28333               </td></tr>\n",
       "</tbody>\n",
       "</table>\n"
      ],
      "text/latex": [
       "\\begin{tabular}{r|llllll}\n",
       "  & year & sex & name & home & age & runTime\\\\\n",
       "\\hline\n",
       "\t2008.484 & 2008                    & M                       & Dan Kahn                & Gaithersburg MD         & 42                      & 68.73333               \\\\\n",
       "\t2009.626 & 2009                    & M                       & Dan Kahn                & Gaithersburg MD         & 43                      & 69.76667               \\\\\n",
       "\t2010.27 & 2010                    & M                       & Dan Kahn                & Houston TX              & NA                      & 52.60000               \\\\\n",
       "\t2010.431 & 2010                    & M                       & Dan Kahn                & Gaithersburg MD         & 44                      & 67.28333               \\\\\n",
       "\\end{tabular}\n"
      ],
      "text/markdown": [
       "\n",
       "| <!--/--> | year | sex | name | home | age | runTime | \n",
       "|---|---|---|---|\n",
       "| 2008.484 | 2008                    | M                       | Dan Kahn                | Gaithersburg MD         | 42                      | 68.73333                | \n",
       "| 2009.626 | 2009                    | M                       | Dan Kahn                | Gaithersburg MD         | 43                      | 69.76667                | \n",
       "| 2010.27 | 2010                    | M                       | Dan Kahn                | Houston TX              | NA                      | 52.60000                | \n",
       "| 2010.431 | 2010                    | M                       | Dan Kahn                | Gaithersburg MD         | 44                      | 67.28333                | \n",
       "\n",
       "\n"
      ],
      "text/plain": [
       "         year sex name                    home                  age runTime \n",
       "2008.484 2008 M   Dan Kahn                Gaithersburg MD       42  68.73333\n",
       "2009.626 2009 M   Dan Kahn                Gaithersburg MD       43  69.76667\n",
       "2010.27  2010 M   Dan Kahn                Houston TX            NA  52.60000\n",
       "2010.431 2010 M   Dan Kahn                Gaithersburg MD       44  67.28333"
      ]
     },
     "metadata": {},
     "output_type": "display_data"
    },
    {
     "data": {
      "text/html": [
       "<table>\n",
       "<thead><tr><th></th><th scope=col>year</th><th scope=col>sex</th><th scope=col>name</th><th scope=col>home</th><th scope=col>age</th><th scope=col>runTime</th></tr></thead>\n",
       "<tbody>\n",
       "\t<tr><th scope=row>2005.134</th><td>2005                   </td><td>M                      </td><td>Bart Forsyth           </td><td>Arlington VA           </td><td>27                     </td><td>61.41667               </td></tr>\n",
       "\t<tr><th scope=row>2006.104</th><td>2006                   </td><td>M                      </td><td>Bart Forsyth           </td><td>Arlington              </td><td>28                     </td><td>59.86667               </td></tr>\n",
       "\t<tr><th scope=row>2009.117</th><td>2009                   </td><td>M                      </td><td>Bart Forsyth           </td><td>Arlington VA           </td><td>31                     </td><td>59.75000               </td></tr>\n",
       "\t<tr><th scope=row>2010.329</th><td>2010                   </td><td>M                      </td><td>Bart Forsyth           </td><td>Arlington VA           </td><td>NA                     </td><td>65.45000               </td></tr>\n",
       "\t<tr><th scope=row>2011.112</th><td>2011                   </td><td>M                      </td><td>Bart Forsyth           </td><td>Arlington VA           </td><td>33                     </td><td>59.65000               </td></tr>\n",
       "\t<tr><th scope=row>2012.113</th><td>2012                   </td><td>M                      </td><td>Bart Forsyth           </td><td>Arlington VA           </td><td>34                     </td><td>59.16667               </td></tr>\n",
       "</tbody>\n",
       "</table>\n"
      ],
      "text/latex": [
       "\\begin{tabular}{r|llllll}\n",
       "  & year & sex & name & home & age & runTime\\\\\n",
       "\\hline\n",
       "\t2005.134 & 2005                    & M                       & Bart Forsyth            & Arlington VA            & 27                      & 61.41667               \\\\\n",
       "\t2006.104 & 2006                    & M                       & Bart Forsyth            & Arlington               & 28                      & 59.86667               \\\\\n",
       "\t2009.117 & 2009                    & M                       & Bart Forsyth            & Arlington VA            & 31                      & 59.75000               \\\\\n",
       "\t2010.329 & 2010                    & M                       & Bart Forsyth            & Arlington VA            & NA                      & 65.45000               \\\\\n",
       "\t2011.112 & 2011                    & M                       & Bart Forsyth            & Arlington VA            & 33                      & 59.65000               \\\\\n",
       "\t2012.113 & 2012                    & M                       & Bart Forsyth            & Arlington VA            & 34                      & 59.16667               \\\\\n",
       "\\end{tabular}\n"
      ],
      "text/markdown": [
       "\n",
       "| <!--/--> | year | sex | name | home | age | runTime | \n",
       "|---|---|---|---|---|---|\n",
       "| 2005.134 | 2005                    | M                       | Bart Forsyth            | Arlington VA            | 27                      | 61.41667                | \n",
       "| 2006.104 | 2006                    | M                       | Bart Forsyth            | Arlington               | 28                      | 59.86667                | \n",
       "| 2009.117 | 2009                    | M                       | Bart Forsyth            | Arlington VA            | 31                      | 59.75000                | \n",
       "| 2010.329 | 2010                    | M                       | Bart Forsyth            | Arlington VA            | NA                      | 65.45000                | \n",
       "| 2011.112 | 2011                    | M                       | Bart Forsyth            | Arlington VA            | 33                      | 59.65000                | \n",
       "| 2012.113 | 2012                    | M                       | Bart Forsyth            | Arlington VA            | 34                      | 59.16667                | \n",
       "\n",
       "\n"
      ],
      "text/plain": [
       "         year sex name                    home                  age runTime \n",
       "2005.134 2005 M   Bart Forsyth            Arlington VA          27  61.41667\n",
       "2006.104 2006 M   Bart Forsyth            Arlington             28  59.86667\n",
       "2009.117 2009 M   Bart Forsyth            Arlington VA          31  59.75000\n",
       "2010.329 2010 M   Bart Forsyth            Arlington VA          NA  65.45000\n",
       "2011.112 2011 M   Bart Forsyth            Arlington VA          33  59.65000\n",
       "2012.113 2012 M   Bart Forsyth            Arlington VA          34  59.16667"
      ]
     },
     "metadata": {},
     "output_type": "display_data"
    },
    {
     "data": {
      "text/html": [
       "<table>\n",
       "<thead><tr><th></th><th scope=col>year</th><th scope=col>sex</th><th scope=col>name</th><th scope=col>home</th><th scope=col>age</th><th scope=col>runTime</th></tr></thead>\n",
       "<tbody>\n",
       "\t<tr><th scope=row>2010.1180</th><td>2010                   </td><td>M                      </td><td>Aaron Griggs           </td><td>                       </td><td>NA                     </td><td>74.98333               </td></tr>\n",
       "</tbody>\n",
       "</table>\n"
      ],
      "text/latex": [
       "\\begin{tabular}{r|llllll}\n",
       "  & year & sex & name & home & age & runTime\\\\\n",
       "\\hline\n",
       "\t2010.1180 & 2010                    & M                       & Aaron Griggs            &                         & NA                      & 74.98333               \\\\\n",
       "\\end{tabular}\n"
      ],
      "text/markdown": [
       "\n",
       "| <!--/--> | year | sex | name | home | age | runTime | \n",
       "|---|\n",
       "| 2010.1180 | 2010                    | M                       | Aaron Griggs            |                         | NA                      | 74.98333                | \n",
       "\n",
       "\n"
      ],
      "text/plain": [
       "          year sex name                    home                  age runTime \n",
       "2010.1180 2010 M   Aaron Griggs                                  NA  74.98333"
      ]
     },
     "metadata": {},
     "output_type": "display_data"
    },
    {
     "data": {
      "text/html": [
       "<table>\n",
       "<thead><tr><th></th><th scope=col>year</th><th scope=col>sex</th><th scope=col>name</th><th scope=col>home</th><th scope=col>age</th><th scope=col>runTime</th></tr></thead>\n",
       "<tbody>\n",
       "\t<tr><th scope=row>2010.5741</th><td>2010                   </td><td>M                      </td><td>Mike Hutchinson        </td><td>Washibgton DC          </td><td>NA                     </td><td>104.0833               </td></tr>\n",
       "</tbody>\n",
       "</table>\n"
      ],
      "text/latex": [
       "\\begin{tabular}{r|llllll}\n",
       "  & year & sex & name & home & age & runTime\\\\\n",
       "\\hline\n",
       "\t2010.5741 & 2010                    & M                       & Mike Hutchinson         & Washibgton DC           & NA                      & 104.0833               \\\\\n",
       "\\end{tabular}\n"
      ],
      "text/markdown": [
       "\n",
       "| <!--/--> | year | sex | name | home | age | runTime | \n",
       "|---|\n",
       "| 2010.5741 | 2010                    | M                       | Mike Hutchinson         | Washibgton DC           | NA                      | 104.0833                | \n",
       "\n",
       "\n"
      ],
      "text/plain": [
       "          year sex name                    home                  age runTime \n",
       "2010.5741 2010 M   Mike Hutchinson         Washibgton DC         NA  104.0833"
      ]
     },
     "metadata": {},
     "output_type": "display_data"
    },
    {
     "data": {
      "text/html": [
       "<table>\n",
       "<thead><tr><th></th><th scope=col>year</th><th scope=col>sex</th><th scope=col>name</th><th scope=col>home</th><th scope=col>age</th><th scope=col>runTime</th></tr></thead>\n",
       "<tbody>\n",
       "\t<tr><th scope=row>1999.1668</th><td>1999                          </td><td>M                             </td><td>Joseph White                  </td><td>Bethesda MD                   </td><td>60                            </td><td> 84.91667                     </td></tr>\n",
       "\t<tr><th scope=row>2000.1450</th><td>2000                          </td><td>M                             </td><td>Joseph White                  </td><td>Bethesda MD                   </td><td>61                            </td><td> 83.68333                     </td></tr>\n",
       "\t<tr><th scope=row>2001.1565</th><td>2001                          </td><td>M                             </td><td>Joseph WHITE                  </td><td>Bethesda MD                   </td><td>62                            </td><td> 83.71667                     </td></tr>\n",
       "\t<tr><th scope=row>2002.2503</th><td>2002                          </td><td>M                             </td><td>Joseph WHITE                  </td><td>Bethesda MD                   </td><td>63                            </td><td> 88.46667                     </td></tr>\n",
       "\t<tr><th scope=row>2003.2291</th><td>2003                          </td><td>M                             </td><td> Joseph White                 </td><td> Bethesda MD                  </td><td>64                            </td><td> 88.45000                     </td></tr>\n",
       "\t<tr><th scope=row>2004.1979</th><td>2004                          </td><td>M                             </td><td>Joseph White                  </td><td>Bethesda MD                   </td><td>65                            </td><td> 86.76667                     </td></tr>\n",
       "\t<tr><th scope=row>2005.2312</th><td>2005                          </td><td>M                             </td><td>Joseph White                  </td><td>Bethesda MD                   </td><td>66                            </td><td> 92.25000                     </td></tr>\n",
       "\t<tr><th scope=row>2006.3440</th><td>2006                          </td><td>M                             </td><td>Joseph White                  </td><td>Bethesda                      </td><td>67                            </td><td> 93.21667                     </td></tr>\n",
       "\t<tr><th scope=row>2008.5264</th><td>2008                          </td><td>M                             </td><td>Joseph White                  </td><td>Bethesda MD                   </td><td>69                            </td><td>106.88333                     </td></tr>\n",
       "\t<tr><th scope=row>2009.4944</th><td>2009                          </td><td>M                             </td><td>Joseph White                  </td><td>Bethesda MD                   </td><td>70                            </td><td> 97.46667                     </td></tr>\n",
       "\t<tr><th scope=row>2010.5388</th><td>2010                          </td><td>M                             </td><td>Joseph White                  </td><td>Bethesda MD                   </td><td>71                            </td><td>100.60000                     </td></tr>\n",
       "\t<tr><th scope=row>2012.7192</th><td>2012                          </td><td>M                             </td><td>Joseph White                  </td><td>Forestville MD                </td><td>NA                            </td><td>148.96667                     </td></tr>\n",
       "</tbody>\n",
       "</table>\n"
      ],
      "text/latex": [
       "\\begin{tabular}{r|llllll}\n",
       "  & year & sex & name & home & age & runTime\\\\\n",
       "\\hline\n",
       "\t1999.1668 & 1999                           & M                              & Joseph White                   & Bethesda MD                    & 60                             &  84.91667                     \\\\\n",
       "\t2000.1450 & 2000                           & M                              & Joseph White                   & Bethesda MD                    & 61                             &  83.68333                     \\\\\n",
       "\t2001.1565 & 2001                           & M                              & Joseph WHITE                   & Bethesda MD                    & 62                             &  83.71667                     \\\\\n",
       "\t2002.2503 & 2002                           & M                              & Joseph WHITE                   & Bethesda MD                    & 63                             &  88.46667                     \\\\\n",
       "\t2003.2291 & 2003                           & M                              &  Joseph White                  &  Bethesda MD                   & 64                             &  88.45000                     \\\\\n",
       "\t2004.1979 & 2004                           & M                              & Joseph White                   & Bethesda MD                    & 65                             &  86.76667                     \\\\\n",
       "\t2005.2312 & 2005                           & M                              & Joseph White                   & Bethesda MD                    & 66                             &  92.25000                     \\\\\n",
       "\t2006.3440 & 2006                           & M                              & Joseph White                   & Bethesda                       & 67                             &  93.21667                     \\\\\n",
       "\t2008.5264 & 2008                           & M                              & Joseph White                   & Bethesda MD                    & 69                             & 106.88333                     \\\\\n",
       "\t2009.4944 & 2009                           & M                              & Joseph White                   & Bethesda MD                    & 70                             &  97.46667                     \\\\\n",
       "\t2010.5388 & 2010                           & M                              & Joseph White                   & Bethesda MD                    & 71                             & 100.60000                     \\\\\n",
       "\t2012.7192 & 2012                           & M                              & Joseph White                   & Forestville MD                 & NA                             & 148.96667                     \\\\\n",
       "\\end{tabular}\n"
      ],
      "text/markdown": [
       "\n",
       "| <!--/--> | year | sex | name | home | age | runTime | \n",
       "|---|---|---|---|---|---|---|---|---|---|---|---|\n",
       "| 1999.1668 | 1999                           | M                              | Joseph White                   | Bethesda MD                    | 60                             |  84.91667                      | \n",
       "| 2000.1450 | 2000                           | M                              | Joseph White                   | Bethesda MD                    | 61                             |  83.68333                      | \n",
       "| 2001.1565 | 2001                           | M                              | Joseph WHITE                   | Bethesda MD                    | 62                             |  83.71667                      | \n",
       "| 2002.2503 | 2002                           | M                              | Joseph WHITE                   | Bethesda MD                    | 63                             |  88.46667                      | \n",
       "| 2003.2291 | 2003                           | M                              |  Joseph White                  |  Bethesda MD                   | 64                             |  88.45000                      | \n",
       "| 2004.1979 | 2004                           | M                              | Joseph White                   | Bethesda MD                    | 65                             |  86.76667                      | \n",
       "| 2005.2312 | 2005                           | M                              | Joseph White                   | Bethesda MD                    | 66                             |  92.25000                      | \n",
       "| 2006.3440 | 2006                           | M                              | Joseph White                   | Bethesda                       | 67                             |  93.21667                      | \n",
       "| 2008.5264 | 2008                           | M                              | Joseph White                   | Bethesda MD                    | 69                             | 106.88333                      | \n",
       "| 2009.4944 | 2009                           | M                              | Joseph White                   | Bethesda MD                    | 70                             |  97.46667                      | \n",
       "| 2010.5388 | 2010                           | M                              | Joseph White                   | Bethesda MD                    | 71                             | 100.60000                      | \n",
       "| 2012.7192 | 2012                           | M                              | Joseph White                   | Forestville MD                 | NA                             | 148.96667                      | \n",
       "\n",
       "\n"
      ],
      "text/plain": [
       "          year sex name                           home                  age\n",
       "1999.1668 1999 M   Joseph White                   Bethesda MD           60 \n",
       "2000.1450 2000 M   Joseph White                   Bethesda MD           61 \n",
       "2001.1565 2001 M   Joseph WHITE                   Bethesda MD           62 \n",
       "2002.2503 2002 M   Joseph WHITE                   Bethesda MD           63 \n",
       "2003.2291 2003 M    Joseph White                   Bethesda MD          64 \n",
       "2004.1979 2004 M   Joseph White                   Bethesda MD           65 \n",
       "2005.2312 2005 M   Joseph White                   Bethesda MD           66 \n",
       "2006.3440 2006 M   Joseph White                   Bethesda              67 \n",
       "2008.5264 2008 M   Joseph White                   Bethesda MD           69 \n",
       "2009.4944 2009 M   Joseph White                   Bethesda MD           70 \n",
       "2010.5388 2010 M   Joseph White                   Bethesda MD           71 \n",
       "2012.7192 2012 M   Joseph White                   Forestville MD        NA \n",
       "          runTime  \n",
       "1999.1668  84.91667\n",
       "2000.1450  83.68333\n",
       "2001.1565  83.71667\n",
       "2002.2503  88.46667\n",
       "2003.2291  88.45000\n",
       "2004.1979  86.76667\n",
       "2005.2312  92.25000\n",
       "2006.3440  93.21667\n",
       "2008.5264 106.88333\n",
       "2009.4944  97.46667\n",
       "2010.5388 100.60000\n",
       "2012.7192 148.96667"
      ]
     },
     "metadata": {},
     "output_type": "display_data"
    },
    {
     "data": {
      "text/html": [
       "<table>\n",
       "<thead><tr><th></th><th scope=col>year</th><th scope=col>sex</th><th scope=col>name</th><th scope=col>home</th><th scope=col>age</th><th scope=col>runTime</th></tr></thead>\n",
       "<tbody>\n",
       "\t<tr><th scope=row>2000.1641</th><td>2000                  </td><td>M                     </td><td>Steve Pinkos          </td><td>Washington DC         </td><td>30                    </td><td>85.08333              </td></tr>\n",
       "\t<tr><th scope=row>2001.1377</th><td>2001                  </td><td>M                     </td><td>Steve PINKOS          </td><td>Washington DC         </td><td> 0                    </td><td>80.11667              </td></tr>\n",
       "</tbody>\n",
       "</table>\n"
      ],
      "text/latex": [
       "\\begin{tabular}{r|llllll}\n",
       "  & year & sex & name & home & age & runTime\\\\\n",
       "\\hline\n",
       "\t2000.1641 & 2000                   & M                      & Steve Pinkos           & Washington DC          & 30                     & 85.08333              \\\\\n",
       "\t2001.1377 & 2001                   & M                      & Steve PINKOS           & Washington DC          &  0                     & 80.11667              \\\\\n",
       "\\end{tabular}\n"
      ],
      "text/markdown": [
       "\n",
       "| <!--/--> | year | sex | name | home | age | runTime | \n",
       "|---|---|\n",
       "| 2000.1641 | 2000                   | M                      | Steve Pinkos           | Washington DC          | 30                     | 85.08333               | \n",
       "| 2001.1377 | 2001                   | M                      | Steve PINKOS           | Washington DC          |  0                     | 80.11667               | \n",
       "\n",
       "\n"
      ],
      "text/plain": [
       "          year sex name                   home                age runTime \n",
       "2000.1641 2000 M   Steve Pinkos           Washington DC       30  85.08333\n",
       "2001.1377 2001 M   Steve PINKOS           Washington DC        0  80.11667"
      ]
     },
     "metadata": {},
     "output_type": "display_data"
    },
    {
     "data": {
      "text/html": [
       "<table>\n",
       "<thead><tr><th></th><th scope=col>year</th><th scope=col>sex</th><th scope=col>name</th><th scope=col>home</th><th scope=col>age</th><th scope=col>runTime</th></tr></thead>\n",
       "<tbody>\n",
       "\t<tr><th scope=row>2001.3003</th><td>2001                          </td><td>M                             </td><td>Jeff LAKE                     </td><td>Clarksville MD                </td><td> 0                            </td><td> 99.43333                     </td></tr>\n",
       "\t<tr><th scope=row>2002.2814</th><td>2002                          </td><td>M                             </td><td>Jeff LAKE                     </td><td>Clarksville MD                </td><td>40                            </td><td> 93.61667                     </td></tr>\n",
       "\t<tr><th scope=row>2003.2874</th><td>2003                          </td><td>M                             </td><td> Jeff Lake                    </td><td> Clarksville MD               </td><td>41                            </td><td> 94.23333                     </td></tr>\n",
       "\t<tr><th scope=row>2006.4516</th><td>2006                          </td><td>M                             </td><td>Jeff Lake                     </td><td>Clarksville                   </td><td>44                            </td><td>103.81667                     </td></tr>\n",
       "</tbody>\n",
       "</table>\n"
      ],
      "text/latex": [
       "\\begin{tabular}{r|llllll}\n",
       "  & year & sex & name & home & age & runTime\\\\\n",
       "\\hline\n",
       "\t2001.3003 & 2001                           & M                              & Jeff LAKE                      & Clarksville MD                 &  0                             &  99.43333                     \\\\\n",
       "\t2002.2814 & 2002                           & M                              & Jeff LAKE                      & Clarksville MD                 & 40                             &  93.61667                     \\\\\n",
       "\t2003.2874 & 2003                           & M                              &  Jeff Lake                     &  Clarksville MD                & 41                             &  94.23333                     \\\\\n",
       "\t2006.4516 & 2006                           & M                              & Jeff Lake                      & Clarksville                    & 44                             & 103.81667                     \\\\\n",
       "\\end{tabular}\n"
      ],
      "text/markdown": [
       "\n",
       "| <!--/--> | year | sex | name | home | age | runTime | \n",
       "|---|---|---|---|\n",
       "| 2001.3003 | 2001                           | M                              | Jeff LAKE                      | Clarksville MD                 |  0                             |  99.43333                      | \n",
       "| 2002.2814 | 2002                           | M                              | Jeff LAKE                      | Clarksville MD                 | 40                             |  93.61667                      | \n",
       "| 2003.2874 | 2003                           | M                              |  Jeff Lake                     |  Clarksville MD                | 41                             |  94.23333                      | \n",
       "| 2006.4516 | 2006                           | M                              | Jeff Lake                      | Clarksville                    | 44                             | 103.81667                      | \n",
       "\n",
       "\n"
      ],
      "text/plain": [
       "          year sex name                           home                 age\n",
       "2001.3003 2001 M   Jeff LAKE                      Clarksville MD        0 \n",
       "2002.2814 2002 M   Jeff LAKE                      Clarksville MD       40 \n",
       "2003.2874 2003 M    Jeff Lake                      Clarksville MD      41 \n",
       "2006.4516 2006 M   Jeff Lake                      Clarksville          44 \n",
       "          runTime  \n",
       "2001.3003  99.43333\n",
       "2002.2814  93.61667\n",
       "2003.2874  94.23333\n",
       "2006.4516 103.81667"
      ]
     },
     "metadata": {},
     "output_type": "display_data"
    },
    {
     "data": {
      "text/html": [
       "<table>\n",
       "<thead><tr><th></th><th scope=col>year</th><th scope=col>sex</th><th scope=col>name</th><th scope=col>home</th><th scope=col>age</th><th scope=col>runTime</th></tr></thead>\n",
       "<tbody>\n",
       "\t<tr><th scope=row>2001.3052</th><td>2001                  </td><td>M                     </td><td>Greg RHODE            </td><td>Washington DC         </td><td>0                     </td><td>97.23333              </td></tr>\n",
       "</tbody>\n",
       "</table>\n"
      ],
      "text/latex": [
       "\\begin{tabular}{r|llllll}\n",
       "  & year & sex & name & home & age & runTime\\\\\n",
       "\\hline\n",
       "\t2001.3052 & 2001                   & M                      & Greg RHODE             & Washington DC          & 0                      & 97.23333              \\\\\n",
       "\\end{tabular}\n"
      ],
      "text/markdown": [
       "\n",
       "| <!--/--> | year | sex | name | home | age | runTime | \n",
       "|---|\n",
       "| 2001.3052 | 2001                   | M                      | Greg RHODE             | Washington DC          | 0                      | 97.23333               | \n",
       "\n",
       "\n"
      ],
      "text/plain": [
       "          year sex name                   home                age runTime \n",
       "2001.3052 2001 M   Greg RHODE             Washington DC       0   97.23333"
      ]
     },
     "metadata": {},
     "output_type": "display_data"
    },
    {
     "data": {
      "text/html": [
       "<table>\n",
       "<thead><tr><th></th><th scope=col>year</th><th scope=col>sex</th><th scope=col>name</th><th scope=col>home</th><th scope=col>age</th><th scope=col>runTime</th></tr></thead>\n",
       "<tbody>\n",
       "\t<tr><th scope=row>2002.2163</th><td>2002                          </td><td>M                             </td><td>Arlon WILBER                  </td><td>Durham NC                     </td><td> 4                            </td><td>88.93333                      </td></tr>\n",
       "\t<tr><th scope=row>2003.2400</th><td>2003                          </td><td>M                             </td><td> Arlon Wilber                 </td><td> Dubham NC                    </td><td>30                            </td><td>89.20000                      </td></tr>\n",
       "\t<tr><th scope=row>2005.1970</th><td>2005                          </td><td>M                             </td><td>Arlon Wilber                  </td><td>Durham NC                     </td><td>32                            </td><td>87.91667                      </td></tr>\n",
       "\t<tr><th scope=row>2008.2962</th><td>2008                          </td><td>M                             </td><td>Arlon Wilber                  </td><td>Durham NC                     </td><td>35                            </td><td>87.56667                      </td></tr>\n",
       "\t<tr><th scope=row>2011.3640</th><td>2011                          </td><td>M                             </td><td>Arlon Wilber                  </td><td>Durham NC                     </td><td>38                            </td><td>89.13333                      </td></tr>\n",
       "\t<tr><th scope=row>2012.4504</th><td>2012                          </td><td>M                             </td><td>Arlon Wilber                  </td><td>Durham NC                     </td><td>39                            </td><td>92.31667                      </td></tr>\n",
       "</tbody>\n",
       "</table>\n"
      ],
      "text/latex": [
       "\\begin{tabular}{r|llllll}\n",
       "  & year & sex & name & home & age & runTime\\\\\n",
       "\\hline\n",
       "\t2002.2163 & 2002                           & M                              & Arlon WILBER                   & Durham NC                      &  4                             & 88.93333                      \\\\\n",
       "\t2003.2400 & 2003                           & M                              &  Arlon Wilber                  &  Dubham NC                     & 30                             & 89.20000                      \\\\\n",
       "\t2005.1970 & 2005                           & M                              & Arlon Wilber                   & Durham NC                      & 32                             & 87.91667                      \\\\\n",
       "\t2008.2962 & 2008                           & M                              & Arlon Wilber                   & Durham NC                      & 35                             & 87.56667                      \\\\\n",
       "\t2011.3640 & 2011                           & M                              & Arlon Wilber                   & Durham NC                      & 38                             & 89.13333                      \\\\\n",
       "\t2012.4504 & 2012                           & M                              & Arlon Wilber                   & Durham NC                      & 39                             & 92.31667                      \\\\\n",
       "\\end{tabular}\n"
      ],
      "text/markdown": [
       "\n",
       "| <!--/--> | year | sex | name | home | age | runTime | \n",
       "|---|---|---|---|---|---|\n",
       "| 2002.2163 | 2002                           | M                              | Arlon WILBER                   | Durham NC                      |  4                             | 88.93333                       | \n",
       "| 2003.2400 | 2003                           | M                              |  Arlon Wilber                  |  Dubham NC                     | 30                             | 89.20000                       | \n",
       "| 2005.1970 | 2005                           | M                              | Arlon Wilber                   | Durham NC                      | 32                             | 87.91667                       | \n",
       "| 2008.2962 | 2008                           | M                              | Arlon Wilber                   | Durham NC                      | 35                             | 87.56667                       | \n",
       "| 2011.3640 | 2011                           | M                              | Arlon Wilber                   | Durham NC                      | 38                             | 89.13333                       | \n",
       "| 2012.4504 | 2012                           | M                              | Arlon Wilber                   | Durham NC                      | 39                             | 92.31667                       | \n",
       "\n",
       "\n"
      ],
      "text/plain": [
       "          year sex name                           home                  age\n",
       "2002.2163 2002 M   Arlon WILBER                   Durham NC              4 \n",
       "2003.2400 2003 M    Arlon Wilber                   Dubham NC            30 \n",
       "2005.1970 2005 M   Arlon Wilber                   Durham NC             32 \n",
       "2008.2962 2008 M   Arlon Wilber                   Durham NC             35 \n",
       "2011.3640 2011 M   Arlon Wilber                   Durham NC             38 \n",
       "2012.4504 2012 M   Arlon Wilber                   Durham NC             39 \n",
       "          runTime \n",
       "2002.2163 88.93333\n",
       "2003.2400 89.20000\n",
       "2005.1970 87.91667\n",
       "2008.2962 87.56667\n",
       "2011.3640 89.13333\n",
       "2012.4504 92.31667"
      ]
     },
     "metadata": {},
     "output_type": "display_data"
    },
    {
     "data": {
      "text/html": [
       "<table>\n",
       "<thead><tr><th></th><th scope=col>year</th><th scope=col>sex</th><th scope=col>name</th><th scope=col>home</th><th scope=col>age</th><th scope=col>runTime</th></tr></thead>\n",
       "<tbody>\n",
       "\t<tr><th scope=row>2002.3282</th><td>2002                  </td><td>M                     </td><td>Nicholas RUGH         </td><td>Arlington VA          </td><td>1                     </td><td>103.75                </td></tr>\n",
       "</tbody>\n",
       "</table>\n"
      ],
      "text/latex": [
       "\\begin{tabular}{r|llllll}\n",
       "  & year & sex & name & home & age & runTime\\\\\n",
       "\\hline\n",
       "\t2002.3282 & 2002                   & M                      & Nicholas RUGH          & Arlington VA           & 1                      & 103.75                \\\\\n",
       "\\end{tabular}\n"
      ],
      "text/markdown": [
       "\n",
       "| <!--/--> | year | sex | name | home | age | runTime | \n",
       "|---|\n",
       "| 2002.3282 | 2002                   | M                      | Nicholas RUGH          | Arlington VA           | 1                      | 103.75                 | \n",
       "\n",
       "\n"
      ],
      "text/plain": [
       "          year sex name                   home                age runTime\n",
       "2002.3282 2002 M   Nicholas RUGH          Arlington VA        1   103.75 "
      ]
     },
     "metadata": {},
     "output_type": "display_data"
    },
    {
     "data": {
      "text/html": [
       "<table>\n",
       "<thead><tr><th></th><th scope=col>year</th><th scope=col>sex</th><th scope=col>name</th><th scope=col>home</th><th scope=col>age</th><th scope=col>runTime</th></tr></thead>\n",
       "<tbody>\n",
       "\t<tr><th scope=row>2003.1337</th><td>2003                          </td><td>M                             </td><td> John Riedel                  </td><td> Annapolis MD                 </td><td>2                             </td><td>79.35                         </td></tr>\n",
       "</tbody>\n",
       "</table>\n"
      ],
      "text/latex": [
       "\\begin{tabular}{r|llllll}\n",
       "  & year & sex & name & home & age & runTime\\\\\n",
       "\\hline\n",
       "\t2003.1337 & 2003                           & M                              &  John Riedel                   &  Annapolis MD                  & 2                              & 79.35                         \\\\\n",
       "\\end{tabular}\n"
      ],
      "text/markdown": [
       "\n",
       "| <!--/--> | year | sex | name | home | age | runTime | \n",
       "|---|\n",
       "| 2003.1337 | 2003                           | M                              |  John Riedel                   |  Annapolis MD                  | 2                              | 79.35                          | \n",
       "\n",
       "\n"
      ],
      "text/plain": [
       "          year sex name                           home                 age\n",
       "2003.1337 2003 M    John Riedel                    Annapolis MD        2  \n",
       "          runTime\n",
       "2003.1337 79.35  "
      ]
     },
     "metadata": {},
     "output_type": "display_data"
    },
    {
     "data": {
      "text/html": [
       "<table>\n",
       "<thead><tr><th></th><th scope=col>year</th><th scope=col>sex</th><th scope=col>name</th><th scope=col>home</th><th scope=col>age</th><th scope=col>runTime</th></tr></thead>\n",
       "<tbody>\n",
       "\t<tr><th scope=row>1999.1667</th><td>1999                          </td><td>M                             </td><td>Robert Anderson               </td><td>Columbia MD                   </td><td>45                            </td><td>84.91667                      </td></tr>\n",
       "\t<tr><th scope=row>1999.1884</th><td>1999                          </td><td>M                             </td><td>Robert Anderson               </td><td>Centreville VA                </td><td>52                            </td><td>87.00000                      </td></tr>\n",
       "\t<tr><th scope=row>2003.2376</th><td>2003                          </td><td>M                             </td><td> Robert Anderson              </td><td> Washington DC                </td><td> 0                            </td><td>88.80000                      </td></tr>\n",
       "\t<tr><th scope=row>2004.3078</th><td>2004                          </td><td>M                             </td><td>Robert Anderson               </td><td>Charlottesville VA            </td><td>29                            </td><td>96.40000                      </td></tr>\n",
       "\t<tr><th scope=row>2009.2059</th><td>2009                          </td><td>M                             </td><td>Robert Anderson               </td><td>Richmond KY                   </td><td>44                            </td><td>80.45000                      </td></tr>\n",
       "</tbody>\n",
       "</table>\n"
      ],
      "text/latex": [
       "\\begin{tabular}{r|llllll}\n",
       "  & year & sex & name & home & age & runTime\\\\\n",
       "\\hline\n",
       "\t1999.1667 & 1999                           & M                              & Robert Anderson                & Columbia MD                    & 45                             & 84.91667                      \\\\\n",
       "\t1999.1884 & 1999                           & M                              & Robert Anderson                & Centreville VA                 & 52                             & 87.00000                      \\\\\n",
       "\t2003.2376 & 2003                           & M                              &  Robert Anderson               &  Washington DC                 &  0                             & 88.80000                      \\\\\n",
       "\t2004.3078 & 2004                           & M                              & Robert Anderson                & Charlottesville VA             & 29                             & 96.40000                      \\\\\n",
       "\t2009.2059 & 2009                           & M                              & Robert Anderson                & Richmond KY                    & 44                             & 80.45000                      \\\\\n",
       "\\end{tabular}\n"
      ],
      "text/markdown": [
       "\n",
       "| <!--/--> | year | sex | name | home | age | runTime | \n",
       "|---|---|---|---|---|\n",
       "| 1999.1667 | 1999                           | M                              | Robert Anderson                | Columbia MD                    | 45                             | 84.91667                       | \n",
       "| 1999.1884 | 1999                           | M                              | Robert Anderson                | Centreville VA                 | 52                             | 87.00000                       | \n",
       "| 2003.2376 | 2003                           | M                              |  Robert Anderson               |  Washington DC                 |  0                             | 88.80000                       | \n",
       "| 2004.3078 | 2004                           | M                              | Robert Anderson                | Charlottesville VA             | 29                             | 96.40000                       | \n",
       "| 2009.2059 | 2009                           | M                              | Robert Anderson                | Richmond KY                    | 44                             | 80.45000                       | \n",
       "\n",
       "\n"
      ],
      "text/plain": [
       "          year sex name                           home                  age\n",
       "1999.1667 1999 M   Robert Anderson                Columbia MD           45 \n",
       "1999.1884 1999 M   Robert Anderson                Centreville VA        52 \n",
       "2003.2376 2003 M    Robert Anderson                Washington DC         0 \n",
       "2004.3078 2004 M   Robert Anderson                Charlottesville VA    29 \n",
       "2009.2059 2009 M   Robert Anderson                Richmond KY           44 \n",
       "          runTime \n",
       "1999.1667 84.91667\n",
       "1999.1884 87.00000\n",
       "2003.2376 88.80000\n",
       "2004.3078 96.40000\n",
       "2009.2059 80.45000"
      ]
     },
     "metadata": {},
     "output_type": "display_data"
    },
    {
     "data": {
      "text/html": [
       "<table>\n",
       "<thead><tr><th></th><th scope=col>year</th><th scope=col>sex</th><th scope=col>name</th><th scope=col>home</th><th scope=col>age</th><th scope=col>runTime</th></tr></thead>\n",
       "<tbody>\n",
       "\t<tr><th scope=row>2011.5669</th><td>2011                   </td><td>M                      </td><td>Jake Ravitch           </td><td>Bethesda MD            </td><td>8                      </td><td>102.5                  </td></tr>\n",
       "\t<tr><th scope=row>2012.5221</th><td>2012                   </td><td>M                      </td><td>Jake Ravitch           </td><td>Bethesda MD            </td><td>9                      </td><td> 96.6                  </td></tr>\n",
       "</tbody>\n",
       "</table>\n"
      ],
      "text/latex": [
       "\\begin{tabular}{r|llllll}\n",
       "  & year & sex & name & home & age & runTime\\\\\n",
       "\\hline\n",
       "\t2011.5669 & 2011                    & M                       & Jake Ravitch            & Bethesda MD             & 8                       & 102.5                  \\\\\n",
       "\t2012.5221 & 2012                    & M                       & Jake Ravitch            & Bethesda MD             & 9                       &  96.6                  \\\\\n",
       "\\end{tabular}\n"
      ],
      "text/markdown": [
       "\n",
       "| <!--/--> | year | sex | name | home | age | runTime | \n",
       "|---|---|\n",
       "| 2011.5669 | 2011                    | M                       | Jake Ravitch            | Bethesda MD             | 8                       | 102.5                   | \n",
       "| 2012.5221 | 2012                    | M                       | Jake Ravitch            | Bethesda MD             | 9                       |  96.6                   | \n",
       "\n",
       "\n"
      ],
      "text/plain": [
       "          year sex name                    home                  age runTime\n",
       "2011.5669 2011 M   Jake Ravitch            Bethesda MD           8   102.5  \n",
       "2012.5221 2012 M   Jake Ravitch            Bethesda MD           9    96.6  "
      ]
     },
     "metadata": {},
     "output_type": "display_data"
    },
    {
     "data": {
      "text/plain": [
       "   Min. 1st Qu.  Median    Mean 3rd Qu.    Max. \n",
       "   1.50   77.23   86.53   87.48   96.60  175.60 "
      ]
     },
     "metadata": {},
     "output_type": "display_data"
    },
    {
     "data": {
      "text/html": [
       "8455"
      ],
      "text/latex": [
       "8455"
      ],
      "text/markdown": [
       "8455"
      ],
      "text/plain": [
       "[1] 8455"
      ]
     },
     "metadata": {},
     "output_type": "display_data"
    },
    {
     "name": "stderr",
     "output_type": "stream",
     "text": [
      "Warning message:\n",
      "\"package 'bindrcpp' was built under R version 3.5.2\""
     ]
    }
   ],
   "source": [
    "# Set working directory\n",
    "#fileLoc <- \"C:\\\\Users\\\\Brett\\\\OneDrive - Southern Methodist University\\\\Semester 5\\\\QtW\\\\CaseStudy2\"\n",
    "#fileLoc <- \"C:\\\\Users\\\\Clovis\\\\Desktop\\\\School\\\\SMU Data Science\\\\2019 Spring\\\\Quantifying The World\\\\Unit 4 - LOESS\\\\Case Study Unit 4\"\n",
    "#setwd(fileLoc)\n",
    "\n",
    "# Libraries\n",
    "library(XML)\n",
    "library(data.table)\n",
    "library(ggplot2)\n",
    "library(gridExtra)\n",
    "library(dplyr)\n",
    "\n",
    "# Globals\n",
    "shortColNames = c(\"name\", \"home\", \"ag\", \"gun\", \"net\", \"time\")\n",
    "\n",
    "# Functions\n",
    "findColLocs = function(spacerRow) {\n",
    "  spaceLocs = gregexpr(\" \", spacerRow)[[1]]\n",
    "  rowLength = nchar(spacerRow)\n",
    "  if (substring(spacerRow, rowLength, rowLength) != \" \")\n",
    "    return( c(0, spaceLocs, rowLength + 1))\n",
    "  else return(c(0, spaceLocs))\n",
    "}\n",
    "\n",
    "selectCols =\n",
    "  function(colNames, headerRow, searchLocs)\n",
    "  {\n",
    "    sapply(colNames,\n",
    "           function(name, headerRow, searchLocs)\n",
    "           {\n",
    "             startPos = regexpr(name, headerRow)[[1]]\n",
    "             if (startPos == -1)\n",
    "               return( c(NA, NA) )\n",
    "             index = sum(startPos >= searchLocs)\n",
    "             c(searchLocs[index] + 1, searchLocs[index + 1])\n",
    "           },\n",
    "           headerRow = headerRow, searchLocs = searchLocs )\n",
    "  }\n",
    "\n",
    "convertTime = function(time) {\n",
    "  timePieces = strsplit(time, \":\")\n",
    "  timePieces = sapply(timePieces, as.numeric)\n",
    "  sapply(timePieces, function(x) {\n",
    "    if (length(x) == 2) x[1] + x[2]/60\n",
    "    else 60*x[1] + x[2] + x[3]/60\n",
    "  })\n",
    "}\n",
    "\n",
    "extractVariables <-\n",
    "  function(file, varNames = shortColNames) {\n",
    "    # Find the index of the row with =s\n",
    "    eqIndex = grep(\"^===\", file)\n",
    "    \n",
    "    # Extract the two key rows and the data \n",
    "    spacerRow = file[eqIndex] \n",
    "    headerRow = tolower(file[ eqIndex - 1 ])\n",
    "    body = file[ -(1 : eqIndex) ]\n",
    "    \n",
    "    \n",
    "    # Remove footnotes and blank rows\n",
    "    footnotes = grep(\"^[[:blank:]]*(\\\\*|\\\\#)\", body)\n",
    "    if ( length(footnotes) > 0 ) body = body[ -footnotes ]\n",
    "    blanks = grep(\"^[[:blank:]]*$\", body)\n",
    "    if (length(blanks) > 0 ) body = body[ -blanks ]\n",
    "    \n",
    "    \n",
    "    # Obtain the starting and ending positions of variables   \n",
    "    searchLocs = findColLocs(spacerRow)\n",
    "    locCols = selectCols(varNames, headerRow, searchLocs)\n",
    "    \n",
    "    \n",
    "    Values = mapply(substr, list(body), start = locCols[1, ], \n",
    "                    stop = locCols[2, ])\n",
    "    colnames(Values) = varNames\n",
    "    \n",
    "    return(Values)\n",
    "  }\n",
    "\n",
    "extractResTable =\n",
    "  # takes a list of websites from the cherry blossom race\n",
    "  # a list of years corresponding to the year the result is for\n",
    "  # and the gender of the participant\n",
    "  # Retrieve data from web site, \n",
    "  # find the preformatted text,\n",
    "  # and write lines or return as a character vector.\n",
    "  # returns a list of strings corrsponding to lines in the web url\n",
    "  function(url = \"http://www.cherryblossom.org/results/2009/09cucb-F.htm\",\n",
    "           year = 1999, sex = \"male\", file = NULL)\n",
    "  {\n",
    "    doc = htmlParse(url, encoding = \"UTF-8\")\n",
    "    \n",
    "    if (year == 2000) {\n",
    "      # Get preformatted text from 4th font element\n",
    "      # The top file is ill formed so the <pre> search doesn't work.\n",
    "      ff = getNodeSet(doc, \"//font\")\n",
    "      txt = xmlValue(ff[[4]])\n",
    "      els = strsplit(txt, \"\\r\\n\")[[1]]\n",
    "    }\n",
    "    else if (year == 2009 & sex == \"male\") {\n",
    "      # Get preformatted text from <div class=\"Section1\"> element\n",
    "      # Each line of results is in a <pre> element\n",
    "      div1 = getNodeSet(doc, \"//div[@class='Section1']\")\n",
    "      pres = getNodeSet(div1[[1]], \"//pre\")\n",
    "      els = sapply(pres, xmlValue)\n",
    "      els = gsub(\"Â\", \" \", els)\n",
    "    }\n",
    "    else if (year == 1999) {\n",
    "      # Get preformatted text from <pre> elements\n",
    "      pres = getNodeSet(doc, \"//pre\")\n",
    "      txt = xmlValue(pres[[1]])\n",
    "      els = strsplit(txt, \"\\n\")[[1]]   \n",
    "    } \n",
    "    else {\n",
    "      # Get preformatted text from <pre> elements\n",
    "      pres = getNodeSet(doc, \"//pre\")\n",
    "      txt = xmlValue(pres[[1]])\n",
    "      els = strsplit(txt, \"\\r\\n\")[[1]]   \n",
    "    } \n",
    "    \n",
    "    if (is.null(file)) return(els)\n",
    "    # Write the lines as a text file.\n",
    "    writeLines(els, con = file)\n",
    "  }\n",
    "\n",
    "createDF = function(Res, year, sex) \n",
    "{\n",
    "  if (year == \"2006\") {\n",
    "    print(\"Examine string\")\n",
    "  }\n",
    "  \n",
    "  # Determine which time to use\n",
    "  if ( !is.na(Res[1, 'net']) ) useTime = Res[ , 'net']\n",
    "  else if ( !is.na(Res[1, 'gun']) ) useTime = Res[ , 'gun']\n",
    "  else useTime = Res[ , 'time']\n",
    "  \n",
    "  # Remove # and * and blanks from time\n",
    "  useTime = gsub(\"[#\\\\*[:blank:]]\", \"\", useTime)\n",
    "  runTime = convertTime(useTime[ useTime != \"\" ])\n",
    "  \n",
    "  # Drop rows with no time\n",
    "  Res = Res[ useTime != \"\", ]\n",
    "  \n",
    "  Results = data.frame(year = rep(year, nrow(Res)),\n",
    "                       sex = rep(sex, nrow(Res)),\n",
    "                       name = Res[ , 'name'], home = Res[ , 'home'],\n",
    "                       age = as.numeric(Res[, 'ag']), \n",
    "                       runTime = runTime,\n",
    "                       stringsAsFactors = FALSE)\n",
    "  invisible(Results)\n",
    "}\n",
    "\n",
    "# Base domain name\n",
    "ubase <- \"http://www.cherryblossom.org/results/\"\n",
    "\n",
    "# Individual page sites\n",
    "pages <- c(\"1999/cb99m.html\", \n",
    "           \"2000/Cb003m.htm\",\n",
    "           \"2001/oof_m.html\",\n",
    "           \"2002/oofm.htm\",\n",
    "           \"2003/CB03-M.HTM\",\n",
    "           \"2004/men.htm\",\n",
    "           \"2005/CB05-M.htm\",\n",
    "           \"2006/mennet.htm\",\n",
    "           \"2007/men.htm\",\n",
    "           \"2008/men.htm\",\n",
    "           \"2009/09cucb-M.htm\",\n",
    "           \"2010/2010cucb10m-m.htm\",\n",
    "           \"2011/2011cucb10m-m.htm\",\n",
    "           \"2012/2012cucb10m-m.htm\")\n",
    "\n",
    "# Combine base and individual to get full url\n",
    "urls <- paste(ubase, pages, sep = \"\")\n",
    "\n",
    "# Pull each year into a dataframe and combine\n",
    "years = 1999:2012\n",
    "menFiles = mapply(extractResTable, url = urls, year = years)\n",
    "names(menFiles) = years\n",
    "\n",
    "# 2006 Data columns for home and time aren't split and regex extracts data incorrectly\n",
    "separatorIdx = grep(\"^===\", menFiles[[\"2006\"]])\n",
    "separatorRow = menFiles[['2006']][separatorIdx]\n",
    "separatorRowX = paste(substring(separatorRow, 1, 63), \" \", \n",
    "                      substring(separatorRow, 65, nchar(separatorRow)), \n",
    "                      sep = \"\")\n",
    "menFiles[['2006']][separatorIdx] = separatorRowX\n",
    "\n",
    "# Extract data from each file for each record\n",
    "menResMat = lapply(menFiles, extractVariables)\n",
    "menDF = mapply(createDF, menResMat, year = 1999:2012, sex = rep(\"M\", 14), SIMPLIFY = FALSE)\n",
    "\n",
    "# Combine all results into one variable\n",
    "cbMen <- do.call(rbind, menDF)\n",
    "\n",
    "# Look at the records that don't have an age value\n",
    "namesNA <- cbMen[is.na(cbMen$age), \"name\"]\n",
    "\n",
    "# Trim whitespaces\n",
    "namesNA <- sapply(namesNA, function(x) trimws(x))\n",
    "\n",
    "# Split first and last name\n",
    "lastName <- sapply(namesNA, function(x) strsplit(x, \" \"))\n",
    "\n",
    "# Determine indices for each name\n",
    "tmpResult <- lapply(lastName, function(x) grep(x[2], cbMen$name, ignore.case = TRUE))\n",
    "\n",
    "# Credit: https://stackoverflow.com/questions/4227223/r-list-to-data-frame\n",
    "df <- data.frame(matrix(tmpResult))\n",
    "\n",
    "row.names(df) <- namesNA\n",
    "colnames(df) <- \"Index Location\"\n",
    "\n",
    "matches <- lapply(namesNA, function(x) grep(x, cbMen$name, ignore.case = TRUE))\n",
    "\n",
    "# Use the data from previous years to try to fill in the missing age information\n",
    "# Age extrapolated from other year entries\n",
    "tmpIdx <- grep(\"rob faye\", cbMen$name, ignore.case = TRUE)\n",
    "cbMen[tmpIdx, ]\n",
    "cbMen[1083, \"age\"] <- 33\n",
    "\n",
    "# No other entries, can't extrapolate age, remove NA\n",
    "tmpIdx <- grep(\"dave boyer\", cbMen$name, ignore.case = TRUE)\n",
    "cbMen[tmpIdx, ]\n",
    "cbMen <- cbMen[-tmpIdx, ]\n",
    "\n",
    "# Age extrapolated from other year entries\n",
    "tmpIdx <- grep(\"john marquart\", cbMen$name, ignore.case = TRUE)\n",
    "cbMen[tmpIdx, ]\n",
    "cbMen[21858, \"age\"] <- 48\n",
    "\n",
    "# No other entries, can't extrapolate age, remove NA\n",
    "tmpIdx <- grep(\"runner dx\", cbMen$name, ignore.case = TRUE)\n",
    "cbMen[tmpIdx, ]\n",
    "cbMen <- cbMen[-tmpIdx, ]\n",
    "\n",
    "# No other entries, can't extrapolate age, remove NA\n",
    "tmpIdx <- grep(\"runner cb\", cbMen$name, ignore.case = TRUE)\n",
    "cbMen[tmpIdx, ]\n",
    "cbMen <- cbMen[-tmpIdx, ]\n",
    "\n",
    "# Age extrapolated from other year entries\n",
    "tmpIdx <- grep(\"joseph Ferguson\", cbMen$name, ignore.case = TRUE)\n",
    "cbMen[tmpIdx, ]\n",
    "cbMen[23380, \"age\"] <- 40\n",
    "\n",
    "# No other entries, can't extrapolate age, remove NA\n",
    "tmpIdx <- grep(\"runner bc\", cbMen$name, ignore.case = TRUE)\n",
    "cbMen[tmpIdx, ]\n",
    "cbMen <- cbMen[-tmpIdx, ]\n",
    "\n",
    "# No other entries, can't extrapolate age, remove NA\n",
    "tmpIdx <- grep(\"ronald henry\", cbMen$name, ignore.case = TRUE)\n",
    "cbMen[tmpIdx, ]\n",
    "cbMen <- cbMen[-tmpIdx, ]\n",
    "\n",
    "# No other entries, can't extrapolate age, remove NA\n",
    "tmpIdx <- grep(\"unidentified runner\", cbMen$name, ignore.case = TRUE)\n",
    "cbMen[tmpIdx, ]\n",
    "cbMen <- cbMen[-tmpIdx, ]\n",
    "\n",
    "# No other entries, can't extrapolate age, remove NA\n",
    "tmpIdx <- grep(\"runner cf\", cbMen$name, ignore.case = TRUE)\n",
    "cbMen[tmpIdx, ]\n",
    "cbMen <- cbMen[-tmpIdx, ]\n",
    "\n",
    "# No other entries, can't extrapolate age, remove NA\n",
    "tmpIdx <- grep(\"runner ch\", cbMen$name, ignore.case = TRUE)\n",
    "cbMen[tmpIdx, ]\n",
    "cbMen <- cbMen[-tmpIdx, ]\n",
    "\n",
    "# Age extrapolated from other year entries\n",
    "tmpIdx <- grep(\"william brooks\", cbMen$name, ignore.case = TRUE)\n",
    "cbMen[tmpIdx, ]\n",
    "cbMen[30589, \"age\"] <- 54\n",
    "\n",
    "# Age extrapolated from other year entries\n",
    "tmpIdx <- grep(\"jim catella\", cbMen$name, ignore.case = TRUE)\n",
    "cbMen[tmpIdx, ]\n",
    "cbMen[31357, \"age\"] <- 26\n",
    "\n",
    "# No other entries, can't extrapolate age, remove NA\n",
    "tmpIdx <- grep(\"monty hoffman\", cbMen$name, ignore.case = TRUE)\n",
    "cbMen[tmpIdx, ]\n",
    "cbMen <- cbMen[-tmpIdx, ]\n",
    "\n",
    "# No other entries, can't extrapolate age, remove NA\n",
    "tmpIdx <- grep(\"unknown\", cbMen$name, ignore.case = TRUE)\n",
    "cbMen[tmpIdx, ]\n",
    "cbMen <- cbMen[-tmpIdx, ]\n",
    "\n",
    "# Two entries in the same year, different times, no home, remove NA\n",
    "tmpIdx <- grep(\"jonathan phillips\", cbMen$name, ignore.case = TRUE)\n",
    "cbMen[tmpIdx, ]\n",
    "cbMen <- cbMen[-42979, ]\n",
    "\n",
    "# No other entries, can't extrapolate age, remove NA\n",
    "tmpIdx <- grep(\"ngata nganga\", cbMen$name, ignore.case = TRUE)\n",
    "cbMen[tmpIdx, ]\n",
    "cbMen <- cbMen[-tmpIdx, ]\n",
    "\n",
    "# Two entries, same year, different homes, remove NA\n",
    "tmpIdx <- grep(\"dan kahn\", cbMen$name, ignore.case = TRUE)\n",
    "cbMen[tmpIdx, ]\n",
    "cbMen <- cbMen[-48970, ]\n",
    "\n",
    "# Age extrapolated from other year entries\n",
    "tmpIdx <- grep(\"bart forsyth\", cbMen$name, ignore.case = TRUE)\n",
    "cbMen[tmpIdx, ]\n",
    "cbMen[49272, \"age\"] <- 32\n",
    "\n",
    "# No other entries, can't extrapolate age, remove NA\n",
    "tmpIdx <- grep(\"aaron griggs\", cbMen$name, ignore.case = TRUE)\n",
    "cbMen[tmpIdx, ]\n",
    "cbMen <- cbMen[-tmpIdx, ]\n",
    "\n",
    "# No other entries, can't extrapolate age, remove NA\n",
    "tmpIdx <- grep(\"mike hutchinson\", cbMen$name, ignore.case = TRUE)\n",
    "cbMen[tmpIdx, ]\n",
    "cbMen <- cbMen[-tmpIdx, ]\n",
    "\n",
    "# No other entries, can't extrapolate age, remove entry\n",
    "tmpIdx <- grep(\"joseph white\", cbMen$name, ignore.case = TRUE)\n",
    "cbMen[tmpIdx, ]\n",
    "cbMen <- cbMen[-70053, ]\n",
    "\n",
    "# Age extrapolated from other year entries\n",
    "tmpIdx <- grep(\"Steve Pinkos\", cbMen$name, ignore.case = TRUE)\n",
    "cbMen[tmpIdx, ]\n",
    "cbMen[7582, \"age\"] <- 31\n",
    "\n",
    "# Age extrapolated from other year entries\n",
    "tmpIdx <- grep(\"Jeff Lake\", cbMen$name, ignore.case = TRUE)\n",
    "cbMen[tmpIdx, ]\n",
    "cbMen[9208, \"age\"] <- 39\n",
    "\n",
    "# No other entries, can't extrapolate age, remove entry\n",
    "tmpIdx <- grep(\"greg Rhode\", cbMen$name, ignore.case = TRUE)\n",
    "cbMen[tmpIdx, ]\n",
    "cbMen <- cbMen[-tmpIdx, ]\n",
    "\n",
    "# Age extrapolated from other year entries\n",
    "tmpIdx <- grep(\"Arlon Wilber\", cbMen$name, ignore.case = TRUE)\n",
    "cbMen[tmpIdx, ]\n",
    "cbMen[11928, \"age\"] <- 29\n",
    "\n",
    "# No other entries, can't extrapolate age, remove entry\n",
    "tmpIdx <- grep(\"nicholas rugh\", cbMen$name, ignore.case = TRUE)\n",
    "cbMen[tmpIdx, ]\n",
    "cbMen <- cbMen[-tmpIdx, ]\n",
    "\n",
    "# No other entries, can't extrapolate age, remove entry\n",
    "tmpIdx <- grep(\"john riedel\", cbMen$name, ignore.case = TRUE)\n",
    "cbMen[tmpIdx, ]\n",
    "cbMen <- cbMen[-tmpIdx, ]\n",
    "\n",
    "# No other entries, can't extrapolate age, remove entry\n",
    "tmpIdx <- grep(\"robert anderson\", cbMen$name, ignore.case = TRUE)\n",
    "cbMen[tmpIdx, ]\n",
    "cbMen <- cbMen[-15861, ]\n",
    "\n",
    "# No other entries, can't extrapolate age, remove entry\n",
    "tmpIdx <- grep(\"jake ravitch\", cbMen$name, ignore.case = TRUE)\n",
    "cbMen[tmpIdx, ]\n",
    "cbMen <- cbMen[-tmpIdx, ]\n",
    "\n",
    "# A net time of 1 hour 30 minutes was calculated erroneosly to 1.5 minutes, fixed\n",
    "summary(cbMen$runTime)\n",
    "which(cbMen$runTime <= 30)\n",
    "\n",
    "# Only one entry found, otherwise this would change multiple rows and potentially dangerous code\n",
    "cbMen[which(cbMen$runTime <= 30), \"runTime\"] <- 90\n",
    "\n",
    "save(cbMen, file = \"cbMen.rda\")\n",
    "\n",
    "#mode function\n",
    "mode = function(x){ \n",
    "    ta = table(x)\n",
    "    tam = max(ta)\n",
    "    if (all(ta == tam))\n",
    "         mod = NA\n",
    "    else\n",
    "         if(is.numeric(x))\n",
    "    mod = as.numeric(names(ta)[ta == tam])\n",
    "    else\n",
    "         mod = names(ta)[ta == tam]\n",
    "    return(mod)\n",
    "}\n",
    "\n",
    "# the summary code adapted from https://www.r-graph-gallery.com/4-barplot-with-error-bar/\n",
    "# Calculates mean, sd, se and IC\n",
    "my_sum <- cbMen %>%\n",
    "  group_by(year) %>%\n",
    "  summarise( \n",
    "    n=n(),\n",
    "    mean=mean(age, na.rm=TRUE),\n",
    "    sd=sd(age, na.rm=TRUE)\n",
    "  ) %>%\n",
    "  mutate( se=sd/sqrt(n))  %>%\n",
    "  mutate( ic=se * qt((1-0.05)/2 + .5, n-1))\n",
    "\n",
    "tenKdata <- cbMen"
   ]
  },
  {
   "cell_type": "code",
   "execution_count": 7,
   "metadata": {},
   "outputs": [],
   "source": [
    "#KDE total distrubtion\n",
    "kde.plot <- ggplot(data=cbMen, aes(age)) +\n",
    "              geom_density(alpha = 0.4, fill=\"dodgerblue2\") +\n",
    "              theme(legend.position = \"none\") +\n",
    "              theme_dark() +\n",
    "              labs(title=\"Distribution of Ages Over All Years\", subtitle=\"Kernel Density Estimate\", x=\"Age\", y=\"Density\")\n",
    "\n",
    "#histogram total distrubtion\n",
    "histo.plot <- ggplot(data=cbMen, aes(x=age, colour=year, fill=year, group=year)) + \n",
    "                geom_histogram() +\n",
    "                theme_dark() +\n",
    "                labs(title=\" \", subtitle=\"Histogram\", x=\"Age\", y=\"Count\")"
   ]
  },
  {
   "cell_type": "code",
   "execution_count": 8,
   "metadata": {},
   "outputs": [],
   "source": [
    "cbMen.1999.2012.only <- subset(cbMen, year==1999 | year==2012)\n",
    "\n",
    "box.1999.2012 <- ggplot(data=cbMen.1999.2012.only, aes(x=year, y=age, group=year)) + \n",
    "                    geom_boxplot() + \n",
    "                    coord_flip() + \n",
    "                    theme_dark() + \n",
    "                    scale_x_continuous(breaks=seq(1999, 2012, 13)) + \n",
    "                    stat_summary(fun.y=mean, geom=\"point\", color=\"red\", fill=\"red\") + \n",
    "                    labs(title=\"Distribution Differences\", x=\"Year\", y=\"Age\")\n",
    "\n",
    "kde.1999.2012 <- ggplot(data=cbMen.1999.2012.only, aes(age, group=year, fill=year, colour=year)) +\n",
    "                    geom_density(alpha = 0.2) +\n",
    "                    theme_dark() +\n",
    "                    labs(title=\" \", x=\"Age\", y=\"Density\")"
   ]
  },
  {
   "cell_type": "code",
   "execution_count": null,
   "metadata": {},
   "outputs": [],
   "source": []
  }
 ],
 "metadata": {
  "kernelspec": {
   "display_name": "R",
   "language": "R",
   "name": "ir"
  },
  "language_info": {
   "codemirror_mode": "r",
   "file_extension": ".r",
   "mimetype": "text/x-r-source",
   "name": "R",
   "pygments_lexer": "r",
   "version": "3.5.1"
  }
 },
 "nbformat": 4,
 "nbformat_minor": 2
}
